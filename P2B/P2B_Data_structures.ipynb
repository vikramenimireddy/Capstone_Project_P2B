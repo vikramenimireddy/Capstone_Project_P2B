{
  "nbformat": 4,
  "nbformat_minor": 0,
  "metadata": {
    "colab": {
      "name": "P2B_Data_structures.ipynb",
      "provenance": [],
      "collapsed_sections": [
        "rXOx18d3xd9S",
        "UpD3bSasbG4g",
        "duFIh4olpNy3",
        "bXwRCk98S1kV",
        "FvyfkM6D_69B"
      ],
      "toc_visible": true
    },
    "kernelspec": {
      "name": "python3",
      "display_name": "Python 3"
    },
    "language_info": {
      "name": "python"
    }
  },
  "cells": [
    {
      "cell_type": "markdown",
      "metadata": {
        "id": "rXOx18d3xd9S"
      },
      "source": [
        "# Strings"
      ]
    },
    {
      "cell_type": "code",
      "metadata": {
        "colab": {
          "base_uri": "https://localhost:8080/"
        },
        "id": "xTqAVBzuxhqM",
        "outputId": "48a8a242-8d26-4c4f-cfaf-e2759cc378cb"
      },
      "source": [
        "# String creation, accessing and len() function.\n",
        "string = 'Hello world'\n",
        "print(len(string))\n",
        "print(string[0])\n",
        "print(string[1])\n",
        "print(string[-1])\n",
        "print(string[-6])"
      ],
      "execution_count": null,
      "outputs": [
        {
          "output_type": "stream",
          "text": [
            "11\n",
            "H\n",
            "e\n",
            "d\n",
            " \n"
          ],
          "name": "stdout"
        }
      ]
    },
    {
      "cell_type": "code",
      "metadata": {
        "colab": {
          "base_uri": "https://localhost:8080/"
        },
        "id": "BcD8lSNfx5G1",
        "outputId": "4de27a78-a9c7-4d27-8f4c-175a40eaf7a0"
      },
      "source": [
        "# String looping\n",
        "## iterate over elements\n",
        "s = 'perfectplanb'\n",
        "for element in s:\n",
        "  print(element)\n",
        "## iterate over elements using range() function\n",
        "print('\\n using range and indexes\\n')\n",
        "s = 'perfectplanb'\n",
        "for index in range(0,len(s)):\n",
        "  print(s[index])\n",
        "## counting element in string:\n",
        "fruit = 'banana'\n",
        "count = 0\n",
        "for element in fruit:\n",
        "  if element == 'a':\n",
        "    count +=1\n",
        "print(f'\\n count of a: {count}\\n')\n",
        "\n",
        "# above program can written in using count() function:\n",
        "fruit.count('a')\n"
      ],
      "execution_count": null,
      "outputs": [
        {
          "output_type": "stream",
          "text": [
            "p\n",
            "e\n",
            "r\n",
            "f\n",
            "e\n",
            "c\n",
            "t\n",
            "p\n",
            "l\n",
            "a\n",
            "n\n",
            "b\n",
            "\n",
            " using range and indexes\n",
            "\n",
            "p\n",
            "e\n",
            "r\n",
            "f\n",
            "e\n",
            "c\n",
            "t\n",
            "p\n",
            "l\n",
            "a\n",
            "n\n",
            "b\n",
            "\n",
            " count of a: 3\n",
            "\n"
          ],
          "name": "stdout"
        },
        {
          "output_type": "execute_result",
          "data": {
            "text/plain": [
              "3"
            ]
          },
          "metadata": {
            "tags": []
          },
          "execution_count": 17
        }
      ]
    },
    {
      "cell_type": "code",
      "metadata": {
        "colab": {
          "base_uri": "https://localhost:8080/",
          "height": 53
        },
        "id": "_pO71OjKzeSg",
        "outputId": "649aefd5-744c-4c28-b60a-de20aac46e03"
      },
      "source": [
        "# String slicing\n",
        "string = 'Hello World'\n",
        "first_five = string[:5]\n",
        "print(first_five) \n",
        "# Reverse string\n",
        "string[::-1]"
      ],
      "execution_count": null,
      "outputs": [
        {
          "output_type": "stream",
          "text": [
            "Hello\n"
          ],
          "name": "stdout"
        },
        {
          "output_type": "execute_result",
          "data": {
            "application/vnd.google.colaboratory.intrinsic+json": {
              "type": "string"
            },
            "text/plain": [
              "'dlroW olleH'"
            ]
          },
          "metadata": {
            "tags": []
          },
          "execution_count": 21
        }
      ]
    },
    {
      "cell_type": "code",
      "metadata": {
        "colab": {
          "base_uri": "https://localhost:8080/"
        },
        "id": "bU96E5Oq3Jq0",
        "outputId": "17351b9a-b160-485c-dbb4-ba5f2426cba7"
      },
      "source": [
        "# string library\n",
        "# isupper()\n",
        "string = 'perfectplanb'\n",
        "print(string.isupper())\n",
        "string = 'PerfectPlanB'\n",
        "print(string.isupper())\n",
        "# islower()\n",
        "print(string.islower())\n",
        "string = 'perfectplanb'\n",
        "print(string.islower())\n",
        "# upper()\n",
        "string = 'PerfectPlanB'\n",
        "print(string.upper())\n",
        "# lower()\n",
        "string = 'PerfectPlanB'\n",
        "print(string.lower())\n",
        "# lstrip()\n",
        "greet = '   Hello bob /   '\n",
        "print(greet.lstrip())\n",
        "# rstrip()\n",
        "greet = '   Hello bob /  '\n",
        "print(greet.rstrip())\n",
        "# strip()\n",
        "greet = '    Hello bob /   '\n",
        "print(greet.strip())\n",
        "\n"
      ],
      "execution_count": null,
      "outputs": [
        {
          "output_type": "stream",
          "text": [
            "False\n",
            "False\n",
            "False\n",
            "True\n",
            "PERFECTPLANB\n",
            "perfectplanb\n",
            "Hello bob /   \n",
            "   Hello bob /\n",
            "Hello bob /\n"
          ],
          "name": "stdout"
        }
      ]
    },
    {
      "cell_type": "code",
      "metadata": {
        "colab": {
          "base_uri": "https://localhost:8080/"
        },
        "id": "NjHdLt7bS9VX",
        "outputId": "c1ae0be2-b19a-4919-ba9a-0e3eeeae2df5"
      },
      "source": [
        "# Parsing and Extracting\n",
        "data = 'From vikramenimireddy@gmail.com Sun Mar 28 21'\n",
        "atpos = data.find('@')\n",
        "stpos = data.find(' ',atpos)\n",
        "print(data[atpos+1:stpos])"
      ],
      "execution_count": null,
      "outputs": [
        {
          "output_type": "stream",
          "text": [
            "gmail.com\n"
          ],
          "name": "stdout"
        }
      ]
    },
    {
      "cell_type": "markdown",
      "metadata": {
        "id": "bShLgFGkbiCo"
      },
      "source": [
        "Question 1 :\n",
        "Take the following Python code that stores a string:`str = 'Perfect-Plan-B:0.7541' Use find and string slicing to extract the portion of the string after the colon character and then use the float function to convert the extracted string into a floating point number"
      ]
    },
    {
      "cell_type": "code",
      "metadata": {
        "colab": {
          "base_uri": "https://localhost:8080/"
        },
        "id": "QXXApuZMaAEq",
        "outputId": "cb0c338e-af0b-43ab-99f4-436fead554d1"
      },
      "source": [
        "str = 'Perfect-Plan-B:0.7541'\n",
        "pos = str.find(':')\n",
        "number = float(str[pos+1:])\n",
        "print(number)\n"
      ],
      "execution_count": null,
      "outputs": [
        {
          "output_type": "stream",
          "text": [
            "0.7541\n"
          ],
          "name": "stdout"
        }
      ]
    },
    {
      "cell_type": "markdown",
      "metadata": {
        "id": "UpD3bSasbG4g"
      },
      "source": [
        "# Files"
      ]
    },
    {
      "cell_type": "code",
      "metadata": {
        "colab": {
          "base_uri": "https://localhost:8080/"
        },
        "id": "q44OSOfxcHHN",
        "outputId": "e0c17f5a-3050-4caf-c5eb-9a7f2ec13eb8"
      },
      "source": [
        "# open(file,mode)\n",
        "# file : path of the file\n",
        "#  mode:\n",
        "# 'r' : read - default value - gives erorr if file doesn't exist\n",
        "# 'a' : append - creates file if file doesn't exist\n",
        "# 'x' : Create - creates specified file if file doesn't exist\n",
        "# 'w' : write - creates file if file doesn't exist\n",
        "try:\n",
        "  open('demofile.txt','x')\n",
        "except FileExistsError:\n",
        "  print('File already exist')"
      ],
      "execution_count": null,
      "outputs": [
        {
          "output_type": "stream",
          "text": [
            "File already exist\n"
          ],
          "name": "stdout"
        }
      ]
    },
    {
      "cell_type": "code",
      "metadata": {
        "colab": {
          "base_uri": "https://localhost:8080/"
        },
        "id": "kumusKgjco4C",
        "outputId": "1eedd947-c1aa-47e1-a1b0-01ba21d6d2ef"
      },
      "source": [
        "f = open('demofile.txt','r')\n",
        "count = 0\n",
        "for line in f:\n",
        "  count+=1\n",
        "  print(line,end ='')\n",
        "print('\\n\\n Line count :',count)"
      ],
      "execution_count": null,
      "outputs": [
        {
          "output_type": "stream",
          "text": [
            "I had never broken into a car before.\n",
            "\n",
            "We were in Laredo, having just finished our first day at a Habitat for Humanity work site. The Hotchkiss volunteers had already left, off to enjoy some Texas BBQ, leaving me behind with the college kids to clean up. Not until we were stranded did we realize we were locked out of the van.\n",
            "\n",
            "Someone picked a coat hanger out of the dumpster, handed it to me, and took a few steps back.\n",
            "\n",
            "\"Can you do that thing with a coat hanger to unlock it?\"\n",
            "\n",
            "\"Why me?\" I thought.\n",
            "\n",
            "\n",
            "\n",
            "\n",
            "More out of amusement than optimism, I gave it a try. I slid the hanger into the window's seal like I'd seen on crime shows, and spent a few minutes jiggling the apparatus around the inside of the frame. Suddenly, two things simultaneously clicked. One was the lock on the door. (I actually succeeded in springing it.) The other was the realization that I'd been in this type of situation before. In fact, I'd been born into this type of situation.\n",
            "\n",
            "My upbringing has numbed me to unpredictability and chaos. With a family of seven, my home was loud, messy, and spottily supervised. My siblings arguing, the dog barking, the phone ringing—all meant my house was functioning normally. My Dad, a retired Navy pilot, was away half the time. When he was home, he had a parenting style something like a drill sergeant. At the age of nine, I learned how to clear burning oil from the surface of water. My Dad considered this a critical life skill—you know, in case my aircraft carrier should ever get torpedoed. \"The water's on fire! Clear a hole!\" he shouted, tossing me in the lake without warning. While I'm still unconvinced about that particular lesson's practicality, my Dad's overarching message is unequivocally true: much of life is unexpected, and you have to deal with the twists and turns.\n",
            "\n",
            "Living in my family, days rarely unfolded as planned. A bit overlooked, a little pushed around, I learned to roll with reality, negotiate a quick deal, and give the improbable a try. I don't sweat the small stuff, and I definitely don't expect perfect fairness. So what if our dining room table only has six chairs for seven people? Someone learns the importance of punctuality every night.\n",
            "\n",
            "But more than punctuality and a special affinity for musical chairs, my family life has taught me to thrive in situations over which I have no power. Growing up, I never controlled my older siblings, but I learned how to thwart their attempts to control me. I forged alliances, and realigned them as necessary. Sometimes, I was the poor, defenseless little brother; sometimes I was the omniscient elder. Different things to different people, as the situation demanded. I learned to adapt.\n",
            "\n",
            "Back then, these techniques were merely reactions undertaken to ensure my survival. But one day this fall, Dr. Hicks, our Head of School, asked me a question that he hoped all seniors would reflect on throughout the year: \"How can I participate in a thing I do not govern, in the company of people I did not choose?\"\n",
            "\n",
            "The question caught me off guard, much like the question posed to me in Laredo. Then, I realized I knew the answer. I knew why the coat hanger had been handed to me.\n",
            "\n",
            "Growing up as the middle child in my family, I was a vital participant in a thing I did not govern, in the company of people I did not choose. It's family. It's society. And often, it's chaos. You participate by letting go of the small stuff, not expecting order and perfection, and facing the unexpected with confidence, optimism, and preparedness. My family experience taught me to face a serendipitous world with confidence.\n",
            "\n",
            " Line count : 26\n"
          ],
          "name": "stdout"
        }
      ]
    },
    {
      "cell_type": "code",
      "metadata": {
        "colab": {
          "base_uri": "https://localhost:8080/"
        },
        "id": "c1zzAbWEdxjd",
        "outputId": "9a170c64-09f2-4d72-bfaa-9ae50c07827b"
      },
      "source": [
        "# Reading whole file\n",
        "f = open('demofile.txt','r')\n",
        "string = f.read()\n",
        "print(string[:20])\n",
        "print(string.count('the'))\n",
        "print(string.lower().count('the'))\n",
        "print(len(string))\n",
        "# Note: each new line it consider as one length character\n",
        "print(string.count(' '))"
      ],
      "execution_count": null,
      "outputs": [
        {
          "output_type": "stream",
          "text": [
            "I had never broken i\n",
            "39\n",
            "44\n",
            "3597\n",
            "622\n"
          ],
          "name": "stdout"
        }
      ]
    },
    {
      "cell_type": "code",
      "metadata": {
        "id": "6tDV_zxdlfcw"
      },
      "source": [
        ""
      ],
      "execution_count": null,
      "outputs": []
    },
    {
      "cell_type": "code",
      "metadata": {
        "colab": {
          "base_uri": "https://localhost:8080/"
        },
        "id": "NYilv7JCglOC",
        "outputId": "5fb924d1-d607-422b-ed87-13fee9e1fde5"
      },
      "source": [
        "f = open('demofile.txt')\n",
        "for line in f:\n",
        "  line = line.rstrip()\n",
        "  if (line.startswith('From:')):\n",
        "    continue\n",
        "  print(line)\n"
      ],
      "execution_count": null,
      "outputs": [
        {
          "output_type": "stream",
          "text": [
            "I had never broken into a car before.\n",
            "We were in Laredo, having just finished our first day at a Habitat for Humanity work site. The Hotchkiss volunteers had already left, off to enjoy some Texas BBQ, leaving me behind with the college kids to clean up. Not until we were stranded did we realize we were locked out of the van.\n",
            "Someone picked a coat hanger out of the dumpster, handed it to me, and took a few steps back.\n",
            "\"Can you do that thing with a coat hanger to unlock it?\"\n",
            "\"Why me?\" I thought.\n",
            "My upbringing has numbed me to unpredictability and chaos. With a family of seven, my home was loud, messy, and spottily supervised. My siblings arguing, the dog barking, the phone ringing—all meant my house was functioning normally. My Dad, a retired Navy pilot, was away half the time. When he was home, he had a parenting style something like a drill sergeant. At the age of nine, I learned how to clear burning oil from the surface of water. My Dad considered this a critical life skill—you know, in case my aircraft carrier should ever get torpedoed. \"The water's on fire! Clear a hole!\" he shouted, tossing me in the lake without warning. While I'm still unconvinced about that particular lesson's practicality, my Dad's overarching message is unequivocally true: much of life is unexpected, and you have to deal with the twists and turns.\n",
            "Living in my family, days rarely unfolded as planned. A bit overlooked, a little pushed around, I learned to roll with reality, negotiate a quick deal, and give the improbable a try. I don't sweat the small stuff, and I definitely don't expect perfect fairness. So what if our dining room table only has six chairs for seven people? Someone learns the importance of punctuality every night.\n",
            "But more than punctuality and a special affinity for musical chairs, my family life has taught me to thrive in situations over which I have no power. Growing up, I never controlled my older siblings, but I learned how to thwart their attempts to control me. I forged alliances, and realigned them as necessary. Sometimes, I was the poor, defenseless little brother; sometimes I was the omniscient elder. Different things to different people, as the situation demanded. I learned to adapt.\n",
            "Back then, these techniques were merely reactions undertaken to ensure my survival. But one day this fall, Dr. Hicks, our Head of School, asked me a question that he hoped all seniors would reflect on throughout the year: \"How can I participate in a thing I do not govern, in the company of people I did not choose?\"\n",
            "The question caught me off guard, much like the question posed to me in Laredo. Then, I realized I knew the answer. I knew why the coat hanger had been handed to me.\n",
            "Growing up as the middle child in my family, I was a vital participant in a thing I did not govern, in the company of people I did not choose. It's family. It's society. And often, it's chaos. You participate by letting go of the small stuff, not expecting order and perfection, and facing the unexpected with confidence, optimism, and preparedness. My family experience taught me to face a serendipitous world with confidence.\n"
          ],
          "name": "stdout"
        }
      ]
    },
    {
      "cell_type": "code",
      "metadata": {
        "colab": {
          "base_uri": "https://localhost:8080/"
        },
        "id": "_7mNoKZNlgVT",
        "outputId": "c17b05d6-b28e-46ea-9c21-270772a3af30"
      },
      "source": [
        "f = open('demofile.txt')\n",
        "for line in f:\n",
        "  line = line.rstrip()\n",
        "  if (not line.startswith('From:')):\n",
        "    continue\n",
        "  print(line)"
      ],
      "execution_count": null,
      "outputs": [
        {
          "output_type": "stream",
          "text": [
            "From: More out of amusement than optimism, I gave it a try. I slid the hanger into the window's seal like I'd seen on crime shows, and spent a few minutes jiggling the apparatus around the inside of the frame. Suddenly, two things simultaneously clicked. One was the lock on the door. (I actually succeeded in springing it.) The other was the realization that I'd been in this type of situation before. In fact, I'd been born into this type of situation.\n"
          ],
          "name": "stdout"
        }
      ]
    },
    {
      "cell_type": "code",
      "metadata": {
        "colab": {
          "base_uri": "https://localhost:8080/"
        },
        "id": "l1E_BT3smVTX",
        "outputId": "5749a574-0ab5-4edb-d385-a16002494205"
      },
      "source": [
        "filename = input('Enter the file name: ')\n",
        "f = open(filename)\n",
        "count = 0\n",
        "for line in f:\n",
        "  line = line.strip()\n",
        "  if line.startswith('From'):\n",
        "    print(line)\n",
        "    count += 1\n",
        "print(f'\\nThere are {count} lines startswith From')     \n",
        "\n"
      ],
      "execution_count": null,
      "outputs": [
        {
          "output_type": "stream",
          "text": [
            "Enter the file name: demofile.txt\n",
            "From:\"Can you do that thing with a coat hanger to unlock it?\"\n",
            "From: More out of amusement than optimism, I gave it a try. I slid the hanger into the window's seal like I'd seen on crime shows, and spent a few minutes jiggling the apparatus around the inside of the frame. Suddenly, two things simultaneously clicked. One was the lock on the door. (I actually succeeded in springing it.) The other was the realization that I'd been in this type of situation before. In fact, I'd been born into this type of situation.\n",
            "From:But more than punctuality and a special affinity for musical chairs, my family life has taught me to thrive in situations over which I have no power. Growing up, I never controlled my older siblings, but I learned how to thwart their attempts to control me. I forged alliances, and realigned them as necessary. Sometimes, I was the poor, defenseless little brother; sometimes I was the omniscient elder. Different things to different people, as the situation demanded. I learned to adapt.\n",
            "\n",
            "There are 3 lines startswith From\n"
          ],
          "name": "stdout"
        }
      ]
    },
    {
      "cell_type": "code",
      "metadata": {
        "colab": {
          "base_uri": "https://localhost:8080/"
        },
        "id": "I8cswyCOp_Jm",
        "outputId": "1bb2f09a-64e1-4c55-eca2-4ac212aa736b"
      },
      "source": [
        "len('p\\nb')"
      ],
      "execution_count": null,
      "outputs": [
        {
          "output_type": "execute_result",
          "data": {
            "text/plain": [
              "3"
            ]
          },
          "metadata": {
            "tags": []
          },
          "execution_count": 86
        }
      ]
    },
    {
      "cell_type": "code",
      "metadata": {
        "id": "usnePb1etDsI"
      },
      "source": [
        "f = open('demofile.txt','w')\n",
        "f.writelines('my name is vikram \\n i am 20 yrs old')\n",
        "f.close()"
      ],
      "execution_count": null,
      "outputs": []
    },
    {
      "cell_type": "code",
      "metadata": {
        "colab": {
          "base_uri": "https://localhost:8080/"
        },
        "id": "lVXhN1JotqdG",
        "outputId": "292487c5-ea3c-47be-b0ca-8f37e024c032"
      },
      "source": [
        "f = open('demofile.txt','r')\n",
        "print(f.read())"
      ],
      "execution_count": null,
      "outputs": [
        {
          "output_type": "stream",
          "text": [
            "my name is vikram \n",
            " i am 20 yrs old\n"
          ],
          "name": "stdout"
        }
      ]
    },
    {
      "cell_type": "markdown",
      "metadata": {
        "id": "3Z1JLyGYvtTG"
      },
      "source": [
        "Question 1 :\n",
        "Make a file names \"file.txt\" and copy paste the following lines in the file: \"From xyz.vhy@perfectplanb.net Sat Jan 5 09:14:16 2008. Return-Path: Received: from murder (perfectplanb.net [141.211.14.90]) by mail.perfectplanb.net with LMTPA;Sat, 05 Jan 2008 09:14:16 -0500\" Then, Write a program to read through this file and print the contents of the file (line by line) all in uppercase. Output should be as follows: \"FROM XYZ.VHY@PERFECTPLANB>NET SAT JAN 5 09:14:16 2008. RETURN-PATH: RECEIVED: FROM MURDER (PERFECTPLANB>NET [141.211.14.90]) BY MAIL.PERFECTPLANB.NET WITH LMTPA; SAT, 05 JAN 2008 09:14:16 -0500\""
      ]
    },
    {
      "cell_type": "code",
      "metadata": {
        "colab": {
          "base_uri": "https://localhost:8080/"
        },
        "id": "D5Uc080BueHf",
        "outputId": "a5e48b1b-6a24-49ce-85bb-0ad78bf1c647"
      },
      "source": [
        "f = open('file.txt')\n",
        "for line in f:\n",
        "  line = line.rstrip()\n",
        "  print(line.upper())"
      ],
      "execution_count": null,
      "outputs": [
        {
          "output_type": "stream",
          "text": [
            "\"FROM XYZ.VHY@PERFECTPLANB.NET SAT JAN 5 09:14:16 2008. RETURN-PATH:\n",
            "RECEIVED: FROM MURDER (PERFECTPLANB.NET [141.211.14.90]) BY\n",
            "MAIL.PERFECTPLANB.NET WITH LMTPA;SAT, 05 JAN 2008 09:14:16 -0500\"\n"
          ],
          "name": "stdout"
        }
      ]
    },
    {
      "cell_type": "markdown",
      "metadata": {
        "id": "duFIh4olpNy3"
      },
      "source": [
        "# Lists"
      ]
    },
    {
      "cell_type": "code",
      "metadata": {
        "id": "xvPK2Zh7xqkZ",
        "colab": {
          "base_uri": "https://localhost:8080/"
        },
        "outputId": "afd8eb8e-7ed5-4b36-cfe5-bcb521597aa6"
      },
      "source": [
        "# creation and mutation\n",
        "lists = ['vikram', 24, True]\n",
        "print(lists)\n",
        "lists[1] = 36\n",
        "print(lists)\n",
        "lists[2] = 'name'\n",
        "print(lists)"
      ],
      "execution_count": null,
      "outputs": [
        {
          "output_type": "stream",
          "text": [
            "['vikram', 24, True]\n",
            "['vikram', 36, True]\n",
            "['vikram', 36, 'name']\n"
          ],
          "name": "stdout"
        }
      ]
    },
    {
      "cell_type": "code",
      "metadata": {
        "colab": {
          "base_uri": "https://localhost:8080/"
        },
        "id": "HFfSkmjQphxN",
        "outputId": "856259f7-90f6-4995-e1ea-fe759829fca1"
      },
      "source": [
        "# len() and range()\n",
        "print(list(range(4)))\n",
        "friends = ['Joseph','Glenn','Sally']\n",
        "print(len(friends))\n",
        "print(list(range(len(friends))))"
      ],
      "execution_count": null,
      "outputs": [
        {
          "output_type": "stream",
          "text": [
            "[0, 1, 2, 3]\n",
            "3\n",
            "[0, 1, 2]\n"
          ],
          "name": "stdout"
        }
      ]
    },
    {
      "cell_type": "code",
      "metadata": {
        "colab": {
          "base_uri": "https://localhost:8080/"
        },
        "id": "4xYGqHwsrcZw",
        "outputId": "cf8a691c-228a-41f6-b75b-175ec6604e5e"
      },
      "source": [
        "students = ['vikram','upendhra','mahendra','chandu','mohan reddy']\n",
        "for student in students:\n",
        "  print('Hello',student)\n",
        "print('\\n')\n",
        "for i in range(len(students)):\n",
        "  print('Hello',students[i])"
      ],
      "execution_count": null,
      "outputs": [
        {
          "output_type": "stream",
          "text": [
            "Hello vikram\n",
            "Hello upendhra\n",
            "Hello mahendra\n",
            "Hello chandu\n",
            "Hello mohan reddy\n",
            "\n",
            "\n",
            "Hello vikram\n",
            "Hello upendhra\n",
            "Hello mahendra\n",
            "Hello chandu\n",
            "Hello mohan reddy\n"
          ],
          "name": "stdout"
        }
      ]
    },
    {
      "cell_type": "code",
      "metadata": {
        "colab": {
          "base_uri": "https://localhost:8080/"
        },
        "id": "kHiuTmo4s7Ms",
        "outputId": "eff4949c-ced3-4706-db6b-d5f82334640a"
      },
      "source": [
        "# list slicing  (smilar to slicings)\n",
        "numbers = [1,2,3,4,5,6,7,8,9]\n",
        "print(numbers[3:5])\n",
        "# building a list from scratch\n",
        "stuff = list()\n",
        "stuff.append('name')\n",
        "stuff.append('vikram')\n",
        "stuff.append(22)\n",
        "stuff.append(True)\n",
        "print(stuff)\n",
        "# using \"in\" for serching\n",
        "print(9 in numbers)\n",
        "print(20 in numbers)\n",
        "print(9 not in numbers)\n",
        "print(20 not in numbers)\n",
        "\n",
        "# sorting list\n",
        "numbers.sort()\n",
        "print(numbers)\n",
        "students.sort()\n",
        "print(students)"
      ],
      "execution_count": null,
      "outputs": [
        {
          "output_type": "stream",
          "text": [
            "[4, 5]\n",
            "['name', 'vikram', 22, True]\n",
            "True\n",
            "False\n",
            "False\n",
            "True\n",
            "[1, 2, 3, 4, 5, 6, 7, 8, 9]\n",
            "['chandu', 'mahendra', 'mohan reddy', 'upendhra', 'vikram']\n"
          ],
          "name": "stdout"
        }
      ]
    },
    {
      "cell_type": "code",
      "metadata": {
        "colab": {
          "base_uri": "https://localhost:8080/"
        },
        "id": "DL71GXgr7cd2",
        "outputId": "bb493ddb-e244-400a-cae7-1067830c2444"
      },
      "source": [
        "stuff =list()\n",
        "while True:\n",
        "  n= input('Enter the number: ')\n",
        "  if n == 'done':\n",
        "    break\n",
        "  stuff.append(float(n))\n",
        "print('avg :',sum(stuff)/len(stuff))    "
      ],
      "execution_count": null,
      "outputs": [
        {
          "output_type": "stream",
          "text": [
            "Enter the number: 40\n",
            "Enter the number: 44\n",
            "Enter the number: 34\n",
            "Enter the number: done\n",
            "avg : 39.333333333333336\n"
          ],
          "name": "stdout"
        }
      ]
    },
    {
      "cell_type": "code",
      "metadata": {
        "id": "hKujG1On9W9j",
        "colab": {
          "base_uri": "https://localhost:8080/"
        },
        "outputId": "41899828-a135-41e3-8988-a1a81797f91e"
      },
      "source": [
        "# String to list using split()\n",
        "string = 'my name is Vikram'\n",
        "stuff = string.split()\n",
        "print(stuff)"
      ],
      "execution_count": null,
      "outputs": [
        {
          "output_type": "stream",
          "text": [
            "['my', 'name', 'is', 'Vikram']\n"
          ],
          "name": "stdout"
        }
      ]
    },
    {
      "cell_type": "code",
      "metadata": {
        "colab": {
          "base_uri": "https://localhost:8080/"
        },
        "id": "wWaW9wR1GMe4",
        "outputId": "f842fb71-0db4-4ef5-b544-405a0a5287af"
      },
      "source": [
        "a= [1,2,3]\n",
        "b=[4,5,6]\n",
        "c=a+b\n",
        "print(c)"
      ],
      "execution_count": null,
      "outputs": [
        {
          "output_type": "stream",
          "text": [
            "[1, 2, 3, 4, 5, 6]\n"
          ],
          "name": "stdout"
        }
      ]
    },
    {
      "cell_type": "markdown",
      "metadata": {
        "id": "K0HjkggvKrI7"
      },
      "source": [
        "Question 1 :\n",
        "Create a file named \"file.txt\" with the following text mentioned below. You are requested to extract Day i.e. Sat, Sun etc from this file and print the days so that your output looks like: SatSunMonTueWed. (Print the output in new lines i.e. Sat then next line Sun then next line Mon etc.)"
      ]
    },
    {
      "cell_type": "code",
      "metadata": {
        "id": "5iB0gqReIPQE"
      },
      "source": [
        "# List assignment\n",
        "try:\n",
        "  file = open('file1.txt','w')\n",
        "  file.writelines('From stephen.marquard@perfectplanb.net Sat Jan 5 09:14:16 2020\\nFrom stephen.marquard@perfectplanb.net Sun Jan 6 09:14:16 2020\\nFrom stephen.marquard@perfectplanb.net Mon Jan 7 09:14:16 2020\\nFrom stephen.marquard@perfectplanb.net Tue Jan 8 09:14:16 2020\\nFrom stephen.marquard@perfectplanb.net Wed Jan 9 09:14:16 2020')\n",
        "  file.close()\n",
        "except:\n",
        "  print('File already exist')  "
      ],
      "execution_count": null,
      "outputs": []
    },
    {
      "cell_type": "code",
      "metadata": {
        "colab": {
          "base_uri": "https://localhost:8080/"
        },
        "id": "-S_Av7i_KR1Q",
        "outputId": "9fa8edc4-a007-41eb-b0ec-eaa7764aa02d"
      },
      "source": [
        "f = open('file1.txt','r')\n",
        "data = f.readlines()\n",
        "for line in data:\n",
        "  line = line.strip().split()\n",
        "  if (len(line) <3 or line[0] != 'From'):\n",
        "    continue\n",
        "  else:\n",
        "    print(line[2])"
      ],
      "execution_count": null,
      "outputs": [
        {
          "output_type": "stream",
          "text": [
            "Sat\n",
            "Sun\n",
            "Mon\n",
            "Tue\n",
            "Wed\n"
          ],
          "name": "stdout"
        }
      ]
    },
    {
      "cell_type": "markdown",
      "metadata": {
        "id": "bXwRCk98S1kV"
      },
      "source": [
        "# Dictionaries\n"
      ]
    },
    {
      "cell_type": "code",
      "metadata": {
        "colab": {
          "base_uri": "https://localhost:8080/"
        },
        "id": "bnUYGGYQLi8i",
        "outputId": "7d5b6cd1-4d25-43b6-b84d-04885c44d8d4"
      },
      "source": [
        "# use curly braces\n",
        "# Dictionaries are unordered collection of (key:value) pairs\n",
        "# we can define empty dictionary by dict() function or empty curly braces '{}'.\n",
        "\n",
        "purse = dict()\n",
        "purse['money'] = 12\n",
        "purse['candy'] = 2\n",
        "purse['tissue'] = 13\n",
        "print(purse)\n",
        "\n",
        "purse['candy']=purse['candy']+3\n",
        "print(purse)\n",
        "jjj = {'name':5,'age':10,'year':2020}\n",
        "jjj['name'] = jjj['name']+5\n",
        "print(jjj)\n",
        "jjj['tone']=100\n",
        "print(jjj)\n"
      ],
      "execution_count": null,
      "outputs": [
        {
          "output_type": "stream",
          "text": [
            "{'money': 12, 'candy': 2, 'tissue': 13}\n",
            "{'money': 12, 'candy': 5, 'tissue': 13}\n",
            "{'name': 10, 'age': 10, 'year': 2020}\n",
            "{'name': 10, 'age': 10, 'year': 2020, 'tone': 100}\n"
          ],
          "name": "stdout"
        }
      ]
    },
    {
      "cell_type": "code",
      "metadata": {
        "colab": {
          "base_uri": "https://localhost:8080/"
        },
        "id": "A_MBpbqZT47b",
        "outputId": "94436fab-60c6-4bb6-f4ac-23dfa40e8dc2"
      },
      "source": [
        "# get() function\n",
        "count = {}\n",
        "line = input('Enter a line: ')\n",
        "words = line.split()\n",
        "for word in words:\n",
        "  count[word] = count.get(word,0) + 1\n",
        "print(count) "
      ],
      "execution_count": null,
      "outputs": [
        {
          "output_type": "stream",
          "text": [
            "Enter a line: hi every one how are you i hope you people are good\n",
            "{'hi': 1, 'every': 1, 'one': 1, 'how': 1, 'are': 2, 'you': 2, 'i': 1, 'hope': 1, 'people': 1, 'good': 1}\n"
          ],
          "name": "stdout"
        }
      ]
    },
    {
      "cell_type": "code",
      "metadata": {
        "colab": {
          "base_uri": "https://localhost:8080/"
        },
        "id": "fzwwnzUIYLj6",
        "outputId": "d5678d2a-83a5-4877-c060-d2ff27e98d4f"
      },
      "source": [
        "# Loops and Dictionaries(iterates around keys of dictionary)\n",
        "import datetime\n",
        "mfg = datetime.datetime(2020, 5, 17)\n",
        "purse = {'make':'totyota','Odometer':10000,'Doors':4,'MFG.Date':mfg}\n",
        "# dict.keys()\n",
        "print(purse.keys())\n",
        "# dict.values()\n",
        "print(purse.values())\n",
        "# dict.items()\n",
        "print(purse.items())\n",
        "for key,value in purse.items():\n",
        "  print(key, value)\n",
        "for key in purse.keys():\n",
        "  print(key)  \n",
        "for value in purse.values():\n",
        "  print(value)    "
      ],
      "execution_count": null,
      "outputs": [
        {
          "output_type": "stream",
          "text": [
            "dict_keys(['make', 'Odometer', 'Doors', 'MFG.Date'])\n",
            "dict_values(['totyota', 10000, 4, datetime.datetime(2020, 5, 17, 0, 0)])\n",
            "dict_items([('make', 'totyota'), ('Odometer', 10000), ('Doors', 4), ('MFG.Date', datetime.datetime(2020, 5, 17, 0, 0))])\n",
            "make totyota\n",
            "Odometer 10000\n",
            "Doors 4\n",
            "MFG.Date 2020-05-17 00:00:00\n",
            "make\n",
            "Odometer\n",
            "Doors\n",
            "MFG.Date\n",
            "totyota\n",
            "10000\n",
            "4\n",
            "2020-05-17 00:00:00\n"
          ],
          "name": "stdout"
        }
      ]
    },
    {
      "cell_type": "code",
      "metadata": {
        "colab": {
          "base_uri": "https://localhost:8080/"
        },
        "id": "0kOG40gLdTK1",
        "outputId": "d1f43bf7-a01a-452b-93b7-bb42c4fb8c23"
      },
      "source": [
        "import datetime\n",
        "\n",
        "x = datetime.datetime.now()\n",
        "\n",
        "print(x.strftime(\"%c\"))"
      ],
      "execution_count": null,
      "outputs": [
        {
          "output_type": "stream",
          "text": [
            "Tue Mar 30 09:37:18 2021\n"
          ],
          "name": "stdout"
        }
      ]
    },
    {
      "cell_type": "code",
      "metadata": {
        "colab": {
          "base_uri": "https://localhost:8080/",
          "height": 183
        },
        "id": "B5pJFU_beF2t",
        "outputId": "bc63bef9-4876-4f1c-b7b7-00020a58089f"
      },
      "source": [
        "ppb ={}\n",
        "print(ppb['can'])"
      ],
      "execution_count": null,
      "outputs": [
        {
          "output_type": "error",
          "ename": "KeyError",
          "evalue": "ignored",
          "traceback": [
            "\u001b[0;31m---------------------------------------------------------------------------\u001b[0m",
            "\u001b[0;31mKeyError\u001b[0m                                  Traceback (most recent call last)",
            "\u001b[0;32m<ipython-input-83-39113d8dc513>\u001b[0m in \u001b[0;36m<module>\u001b[0;34m()\u001b[0m\n\u001b[1;32m      1\u001b[0m \u001b[0mppb\u001b[0m \u001b[0;34m=\u001b[0m\u001b[0;34m{\u001b[0m\u001b[0;34m}\u001b[0m\u001b[0;34m\u001b[0m\u001b[0;34m\u001b[0m\u001b[0m\n\u001b[0;32m----> 2\u001b[0;31m \u001b[0mprint\u001b[0m\u001b[0;34m(\u001b[0m\u001b[0mppb\u001b[0m\u001b[0;34m[\u001b[0m\u001b[0;34m'can'\u001b[0m\u001b[0;34m]\u001b[0m\u001b[0;34m)\u001b[0m\u001b[0;34m\u001b[0m\u001b[0;34m\u001b[0m\u001b[0m\n\u001b[0m",
            "\u001b[0;31mKeyError\u001b[0m: 'can'"
          ]
        }
      ]
    },
    {
      "cell_type": "code",
      "metadata": {
        "colab": {
          "base_uri": "https://localhost:8080/"
        },
        "id": "hd8tWFr3g5OQ",
        "outputId": "8416cbc6-a6c8-4803-ec0a-166a93e997c5"
      },
      "source": [
        "print(ppb.get('can',-1))"
      ],
      "execution_count": null,
      "outputs": [
        {
          "output_type": "stream",
          "text": [
            "-1\n"
          ],
          "name": "stdout"
        }
      ]
    },
    {
      "cell_type": "code",
      "metadata": {
        "colab": {
          "base_uri": "https://localhost:8080/"
        },
        "id": "virOXSojhMxH",
        "outputId": "ddf7ed2e-2b53-4a47-8d7f-f24bc05944a8"
      },
      "source": [
        "for key in purse:\n",
        "  print(key)"
      ],
      "execution_count": null,
      "outputs": [
        {
          "output_type": "stream",
          "text": [
            "make\n",
            "Odometer\n",
            "Doors\n",
            "MFG.Date\n"
          ],
          "name": "stdout"
        }
      ]
    },
    {
      "cell_type": "markdown",
      "metadata": {
        "id": "XyDXlFDQjYiS"
      },
      "source": [
        "Question 1 :\n",
        "Create a file named \"file.txt\" and copy paste the following information in the file :\"the clown ran after the car and the car ran into the tent and the tent fell down on the clown and the car. Studying python is very important. perfect Plan B makes us perfect in python and Machine Learning\".  Count the number of words i.e each word comes how many times using dictionaries. For example, the comes 7 times, clown 2 times and so on.  Thereafter, calculate the the word coming largest number of times. The output should be as follows:\"Enter File file.txt the 7 clown 2 ran 2 after 1 car 3 and 3 into 1 tent 2 fell 1 down 1 on 1 Studying 1 python 2 is 1 very 1 important 1 perfect 2 plan 1 B 1 makes 1 us 1 in 1 and 1 Machine 1 Learning 1 Done the 7\".\n"
      ]
    },
    {
      "cell_type": "code",
      "metadata": {
        "id": "6XTIfVISiT-J"
      },
      "source": [
        "try:\n",
        "  file = open('file.txt','w')\n",
        "  file.writelines('the clown ran after the car and the car ran into the tent and the tent fell down on the clown and the car. Studying python is very important. perfect Plan B makes us perfect in python and Machine Learning')\n",
        "  file.close()\n",
        "except:\n",
        "  print('File already exist')  \n"
      ],
      "execution_count": null,
      "outputs": []
    },
    {
      "cell_type": "code",
      "metadata": {
        "colab": {
          "base_uri": "https://localhost:8080/"
        },
        "id": "8_Sw_c6qkBhr",
        "outputId": "d9479002-484f-4d91-a75c-d59c7a516bd5"
      },
      "source": [
        "file_name = input('Enter filename: ')\n",
        "f = open(file_name,'r')\n",
        "data = f.read()\n",
        "words = data.split()\n",
        "count = {}\n",
        "for i in range(len(words)):\n",
        "  words[i] = words[i].strip('.')\n",
        "  count[words[i]] = count.get(words[i],0) + 1\n",
        "key = max(count, key = count.get)\n",
        "print(f'{count} \\nDone \\n{key}:{max(count.values())}' )"
      ],
      "execution_count": null,
      "outputs": [
        {
          "output_type": "stream",
          "text": [
            "Enter filename: file.txt\n",
            "{'the': 7, 'clown': 2, 'ran': 2, 'after': 1, 'car': 3, 'and': 4, 'into': 1, 'tent': 2, 'fell': 1, 'down': 1, 'on': 1, 'Studying': 1, 'python': 2, 'is': 1, 'very': 1, 'important': 1, 'perfect': 2, 'Plan': 1, 'B': 1, 'makes': 1, 'us': 1, 'in': 1, 'Machine': 1, 'Learning': 1} \n",
            "Done \n",
            "the:7\n"
          ],
          "name": "stdout"
        }
      ]
    },
    {
      "cell_type": "code",
      "metadata": {
        "colab": {
          "base_uri": "https://localhost:8080/"
        },
        "id": "9bepC4RRknpH",
        "outputId": "83f88763-dd8a-490b-cec5-d4fcd1a63ace"
      },
      "source": [
        "#This is working code. Check if this meet your criteria\n",
        "num = 0\n",
        "tot = 0\n",
        "val =0\n",
        "while  val != \"exit\":\n",
        "  try:\n",
        "    val = input(\"Enter NUmber\")\n",
        "    val1 = float(val)\n",
        "    num = num + 1\n",
        "    tot = tot + val1\n",
        "  except:\n",
        "    print(\"invalid\")\n",
        "print(tot)\n"
      ],
      "execution_count": null,
      "outputs": [
        {
          "output_type": "stream",
          "text": [
            "Enter NUmber10\n",
            "Enter NUmber23\n",
            "Enter NUmber45\n",
            "Enter NUmber76\n",
            "Enter NUmberexit\n",
            "invalid\n",
            "154.0\n"
          ],
          "name": "stdout"
        }
      ]
    },
    {
      "cell_type": "markdown",
      "metadata": {
        "id": "FvyfkM6D_69B"
      },
      "source": [
        "# **Tuples**\n",
        "\n",
        "\n",
        "\n",
        "1.   tuples are like lists but immutable\n",
        "2.   tuples acces with inde xnumbers\n",
        "\n"
      ]
    },
    {
      "cell_type": "code",
      "metadata": {
        "id": "FGnerJBRRhNo",
        "colab": {
          "base_uri": "https://localhost:8080/",
          "height": 218
        },
        "outputId": "eec78443-5530-4f90-edad-e743a401fa14"
      },
      "source": [
        "y = (1,2,3)\n",
        "print(type(y))\n",
        "y[2] = 4"
      ],
      "execution_count": null,
      "outputs": [
        {
          "output_type": "stream",
          "text": [
            "<class 'tuple'>\n"
          ],
          "name": "stdout"
        },
        {
          "output_type": "error",
          "ename": "TypeError",
          "evalue": "ignored",
          "traceback": [
            "\u001b[0;31m---------------------------------------------------------------------------\u001b[0m",
            "\u001b[0;31mTypeError\u001b[0m                                 Traceback (most recent call last)",
            "\u001b[0;32m<ipython-input-46-a2eced9f3ace>\u001b[0m in \u001b[0;36m<module>\u001b[0;34m()\u001b[0m\n\u001b[1;32m      1\u001b[0m \u001b[0my\u001b[0m \u001b[0;34m=\u001b[0m \u001b[0;34m(\u001b[0m\u001b[0;36m1\u001b[0m\u001b[0;34m,\u001b[0m\u001b[0;36m2\u001b[0m\u001b[0;34m,\u001b[0m\u001b[0;36m3\u001b[0m\u001b[0;34m)\u001b[0m\u001b[0;34m\u001b[0m\u001b[0;34m\u001b[0m\u001b[0m\n\u001b[1;32m      2\u001b[0m \u001b[0mprint\u001b[0m\u001b[0;34m(\u001b[0m\u001b[0mtype\u001b[0m\u001b[0;34m(\u001b[0m\u001b[0my\u001b[0m\u001b[0;34m)\u001b[0m\u001b[0;34m)\u001b[0m\u001b[0;34m\u001b[0m\u001b[0;34m\u001b[0m\u001b[0m\n\u001b[0;32m----> 3\u001b[0;31m \u001b[0my\u001b[0m\u001b[0;34m[\u001b[0m\u001b[0;36m2\u001b[0m\u001b[0;34m]\u001b[0m \u001b[0;34m=\u001b[0m \u001b[0;36m4\u001b[0m\u001b[0;34m\u001b[0m\u001b[0;34m\u001b[0m\u001b[0m\n\u001b[0m",
            "\u001b[0;31mTypeError\u001b[0m: 'tuple' object does not support item assignment"
          ]
        }
      ]
    },
    {
      "cell_type": "code",
      "metadata": {
        "colab": {
          "base_uri": "https://localhost:8080/"
        },
        "id": "3K2LToTSBEdp",
        "outputId": "19c29446-3064-4317-eb27-64e4c7264800"
      },
      "source": [
        "# tuple can be put on the left side of assignment\n",
        "(x,y) = (1,'nine')\n",
        "print (y)"
      ],
      "execution_count": null,
      "outputs": [
        {
          "output_type": "stream",
          "text": [
            "nine\n"
          ],
          "name": "stdout"
        }
      ]
    },
    {
      "cell_type": "code",
      "metadata": {
        "colab": {
          "base_uri": "https://localhost:8080/"
        },
        "id": "-uvKxqx3Bx8C",
        "outputId": "7f7acb8b-bc5f-458d-8452-f013e270c372"
      },
      "source": [
        "# paranthesis can also be omitted\n",
        "x,y =10, 12\n",
        "print(x)"
      ],
      "execution_count": null,
      "outputs": [
        {
          "output_type": "stream",
          "text": [
            "10\n"
          ],
          "name": "stdout"
        }
      ]
    },
    {
      "cell_type": "code",
      "metadata": {
        "colab": {
          "base_uri": "https://localhost:8080/"
        },
        "id": "uATtZ53ZB6mp",
        "outputId": "40d6c14e-ba46-4fd3-d0aa-35a2a84f6a91"
      },
      "source": [
        "# dictionary is nothing but list of tuple\n",
        "d  = {}\n",
        "d['k1']=2\n",
        "d['k2']=9\n",
        "tuple = d.items()\n",
        "print(tuple)\n"
      ],
      "execution_count": null,
      "outputs": [
        {
          "output_type": "stream",
          "text": [
            "dict_items([('k1', 2), ('k2', 9)])\n"
          ],
          "name": "stdout"
        }
      ]
    },
    {
      "cell_type": "code",
      "metadata": {
        "colab": {
          "base_uri": "https://localhost:8080/"
        },
        "id": "EtOBtqA3C9Zj",
        "outputId": "7faddfee-5fd2-4aad-bbe8-81799a670c25"
      },
      "source": [
        "(9,7,6)>(5,4,3)"
      ],
      "execution_count": null,
      "outputs": [
        {
          "output_type": "execute_result",
          "data": {
            "text/plain": [
              "True"
            ]
          },
          "metadata": {
            "tags": []
          },
          "execution_count": 50
        }
      ]
    },
    {
      "cell_type": "code",
      "metadata": {
        "colab": {
          "base_uri": "https://localhost:8080/"
        },
        "id": "GAhxTKxHDYje",
        "outputId": "505b8101-c78d-4771-b34d-b8abb079d643"
      },
      "source": [
        "a = {'a':10,'b':1,'c':22}\n",
        "list1=[]\n",
        "for k,v in a.items():\n",
        "  list1.append((v,k))\n",
        "print(list1)\n",
        "print(sorted(list1))\n",
        "print(sorted(list1,reverse = True))"
      ],
      "execution_count": null,
      "outputs": [
        {
          "output_type": "stream",
          "text": [
            "[(10, 'a'), (1, 'b'), (22, 'c')]\n",
            "[(1, 'b'), (10, 'a'), (22, 'c')]\n",
            "[(22, 'c'), (10, 'a'), (1, 'b')]\n"
          ],
          "name": "stdout"
        }
      ]
    },
    {
      "cell_type": "code",
      "metadata": {
        "colab": {
          "base_uri": "https://localhost:8080/"
        },
        "id": "-vj4KZ5UF4VB",
        "outputId": "5e0374b7-dd19-4c09-bd25-8043db86d459"
      },
      "source": [
        "# above program in one line\n",
        "print(sorted([(v,k) for (k,v) in a.items()]))"
      ],
      "execution_count": null,
      "outputs": [
        {
          "output_type": "stream",
          "text": [
            "[(1, 'b'), (10, 'a'), (22, 'c')]\n"
          ],
          "name": "stdout"
        }
      ]
    },
    {
      "cell_type": "code",
      "metadata": {
        "colab": {
          "base_uri": "https://localhost:8080/"
        },
        "id": "OHfdfhCbG95D",
        "outputId": "7985f834-9501-41a1-bc1f-bdc6089f63af"
      },
      "source": [
        "print(sorted([(v,k) for (k,v) in a.items()],reverse = True))"
      ],
      "execution_count": null,
      "outputs": [
        {
          "output_type": "stream",
          "text": [
            "[(22, 'c'), (10, 'a'), (1, 'b')]\n"
          ],
          "name": "stdout"
        }
      ]
    },
    {
      "cell_type": "code",
      "metadata": {
        "colab": {
          "base_uri": "https://localhost:8080/"
        },
        "id": "XnrjIsdsHC9j",
        "outputId": "b01e3706-68cc-4840-b582-84e29886f6d3"
      },
      "source": [
        "z = ('a','d','g','h','j','6')\n",
        "print(z[2:4])"
      ],
      "execution_count": null,
      "outputs": [
        {
          "output_type": "stream",
          "text": [
            "('g', 'h')\n"
          ],
          "name": "stdout"
        }
      ]
    },
    {
      "cell_type": "code",
      "metadata": {
        "colab": {
          "base_uri": "https://localhost:8080/"
        },
        "id": "l_mz2j54H_Er",
        "outputId": "7a71719c-adc7-45b5-844b-7ae2cdd81c97"
      },
      "source": [
        "file_name = input('Enter filename: ')\n",
        "f = open(file_name,'r')\n",
        "data = f.read()\n",
        "words = data.split()\n",
        "count = {}\n",
        "list1 = []\n",
        "for i in range(len(words)):\n",
        "  words[i] = words[i].strip('.')\n",
        "  count[words[i]] = count.get(words[i],0) + 1\n",
        "b = sorted([(v,k) for (k,v) in count.items()],reverse =True)\n",
        "print(dict([(v,k) for (k,v) in b]))"
      ],
      "execution_count": null,
      "outputs": [
        {
          "output_type": "stream",
          "text": [
            "Enter filename: file.txt\n",
            "{'the': 7, 'and': 4, 'car': 3, 'tent': 2, 'ran': 2, 'python': 2, 'perfect': 2, 'clown': 2, 'very': 1, 'us': 1, 'on': 1, 'makes': 1, 'is': 1, 'into': 1, 'in': 1, 'important': 1, 'fell': 1, 'down': 1, 'after': 1, 'Studying': 1, 'Plan': 1, 'Machine': 1, 'Learning': 1, 'B': 1}\n"
          ],
          "name": "stdout"
        }
      ]
    },
    {
      "cell_type": "markdown",
      "metadata": {
        "id": "hne8Wr1fIXhq"
      },
      "source": [
        "#  Sets\n",
        "\n",
        "\n",
        "1.   unordered collection of data\n",
        "2.   immutable\n",
        "3.   iterable\n",
        "4.   no duplicates\n",
        "5.   sets cannot have mutable things as elements (lists and dictionaries)\n",
        "\n",
        "\n"
      ]
    },
    {
      "cell_type": "code",
      "metadata": {
        "colab": {
          "base_uri": "https://localhost:8080/"
        },
        "id": "HwaBmZXsIb7v",
        "outputId": "be937343-98b3-4c1e-819e-1abd1238bf54"
      },
      "source": [
        "my_set = {2,'hello',(1,2,3),2.0}\n",
        "print(my_set)"
      ],
      "execution_count": null,
      "outputs": [
        {
          "output_type": "stream",
          "text": [
            "{2, 'hello', (1, 2, 3)}\n"
          ],
          "name": "stdout"
        }
      ]
    },
    {
      "cell_type": "code",
      "metadata": {
        "colab": {
          "base_uri": "https://localhost:8080/"
        },
        "id": "5U0x5Wn_UATb",
        "outputId": "84ed9f44-7944-4989-da8a-14494bafab08"
      },
      "source": [
        "my_set = {}\n",
        "print(type(my_set))"
      ],
      "execution_count": null,
      "outputs": [
        {
          "output_type": "stream",
          "text": [
            "<class 'dict'>\n"
          ],
          "name": "stdout"
        }
      ]
    },
    {
      "cell_type": "code",
      "metadata": {
        "colab": {
          "base_uri": "https://localhost:8080/"
        },
        "id": "C8KFcwvyVTan",
        "outputId": "cb01de27-160e-4e3f-f7b8-0cc79b9ba0c2"
      },
      "source": [
        "my_set =  set()\n",
        "print(type(my_set))"
      ],
      "execution_count": null,
      "outputs": [
        {
          "output_type": "stream",
          "text": [
            "<class 'set'>\n"
          ],
          "name": "stdout"
        }
      ]
    },
    {
      "cell_type": "code",
      "metadata": {
        "colab": {
          "base_uri": "https://localhost:8080/"
        },
        "id": "8pAbWBa3XCNm",
        "outputId": "05af321b-14d0-4f1e-c51f-5660a58ddf85"
      },
      "source": [
        "# modifying a set in python\n",
        "# add() To add single item to a set\n",
        "my_set = {'Python','DS', 'ML'}\n",
        "print(my_set)\n",
        "my_set.add('OOPs')\n",
        "print(my_set)"
      ],
      "execution_count": null,
      "outputs": [
        {
          "output_type": "stream",
          "text": [
            "{'DS', 'Python', 'ML'}\n",
            "{'DS', 'OOPs', 'Python', 'ML'}\n"
          ],
          "name": "stdout"
        }
      ]
    },
    {
      "cell_type": "code",
      "metadata": {
        "colab": {
          "base_uri": "https://localhost:8080/"
        },
        "id": "WOHG9BmxZZMP",
        "outputId": "dde53ad2-7d1e-41fe-a4cf-e6ad770fac58"
      },
      "source": [
        "#update() to add multiple items to set\n",
        "# update() can also take tuples, sets, strings and lists and dictionaries as its arguments. But no duplicates\n",
        "my_set = {'Python','DS', 'ML'}\n",
        "print(my_set)\n",
        "my_set.update(['OOPs','Python Advanced'])\n",
        "print(my_set)\n",
        "my_set.update({'Age':23,'Name': 'Vikram Enimireddy'})\n",
        "print(my_set)\n",
        "my_set.update([1,2,3,4,5])\n",
        "print(my_set)"
      ],
      "execution_count": null,
      "outputs": [
        {
          "output_type": "stream",
          "text": [
            "{'DS', 'Python', 'ML'}\n",
            "{'DS', 'OOPs', 'ML', 'Python Advanced', 'Python'}\n",
            "{'DS', 'OOPs', 'Name', 'ML', 'Python Advanced', 'Python', 'Age'}\n",
            "{1, 2, 3, 4, 5, 'DS', 'OOPs', 'Name', 'ML', 'Python Advanced', 'Python', 'Age'}\n"
          ],
          "name": "stdout"
        }
      ]
    },
    {
      "cell_type": "code",
      "metadata": {
        "colab": {
          "base_uri": "https://localhost:8080/"
        },
        "id": "slWJS7xAaDoa",
        "outputId": "940021a2-e8d3-42de-a43a-e9d9dd21bcdc"
      },
      "source": [
        "# Removing And Deleting Elements of Sets\n",
        "# discard() : will leave the set unchanged if the element is not present in the list \n",
        "my_set = {'DS', 'OOPs', 'ML', 'Python Advanced', 'Python'}\n",
        "print(my_set)\n",
        "my_set.discard('DS')\n",
        "print(my_set)\n",
        "my_set.discard('EVEN')\n",
        "print(my_set)"
      ],
      "execution_count": null,
      "outputs": [
        {
          "output_type": "stream",
          "text": [
            "{'ML', 'Python Advanced', 'DS', 'Python', 'OOPs'}\n",
            "{'ML', 'Python Advanced', 'Python', 'OOPs'}\n",
            "{'ML', 'Python Advanced', 'Python', 'OOPs'}\n"
          ],
          "name": "stdout"
        }
      ]
    },
    {
      "cell_type": "code",
      "metadata": {
        "colab": {
          "base_uri": "https://localhost:8080/",
          "height": 256
        },
        "id": "2sl8Qyp7dAS3",
        "outputId": "dfc49f41-af00-4d54-d8fd-2cce911370ba"
      },
      "source": [
        "# Remove: raise an error in such condition (if element is not present in list)\n",
        "my_set = {'DS', 'OOPs', 'ML', 'Python Advanced', 'Python'}\n",
        "print(my_set)\n",
        "my_set.remove('DS')\n",
        "print(my_set)\n",
        "my_set.remove('EVEN')\n",
        "print(my_set)"
      ],
      "execution_count": null,
      "outputs": [
        {
          "output_type": "stream",
          "text": [
            "{'ML', 'Python Advanced', 'DS', 'Python', 'OOPs'}\n",
            "{'ML', 'Python Advanced', 'Python', 'OOPs'}\n"
          ],
          "name": "stdout"
        },
        {
          "output_type": "error",
          "ename": "KeyError",
          "evalue": "ignored",
          "traceback": [
            "\u001b[0;31m---------------------------------------------------------------------------\u001b[0m",
            "\u001b[0;31mKeyError\u001b[0m                                  Traceback (most recent call last)",
            "\u001b[0;32m<ipython-input-7-595c37fe6a7a>\u001b[0m in \u001b[0;36m<module>\u001b[0;34m()\u001b[0m\n\u001b[1;32m      4\u001b[0m \u001b[0mmy_set\u001b[0m\u001b[0;34m.\u001b[0m\u001b[0mremove\u001b[0m\u001b[0;34m(\u001b[0m\u001b[0;34m'DS'\u001b[0m\u001b[0;34m)\u001b[0m\u001b[0;34m\u001b[0m\u001b[0;34m\u001b[0m\u001b[0m\n\u001b[1;32m      5\u001b[0m \u001b[0mprint\u001b[0m\u001b[0;34m(\u001b[0m\u001b[0mmy_set\u001b[0m\u001b[0;34m)\u001b[0m\u001b[0;34m\u001b[0m\u001b[0;34m\u001b[0m\u001b[0m\n\u001b[0;32m----> 6\u001b[0;31m \u001b[0mmy_set\u001b[0m\u001b[0;34m.\u001b[0m\u001b[0mremove\u001b[0m\u001b[0;34m(\u001b[0m\u001b[0;34m'EVEN'\u001b[0m\u001b[0;34m)\u001b[0m\u001b[0;34m\u001b[0m\u001b[0;34m\u001b[0m\u001b[0m\n\u001b[0m\u001b[1;32m      7\u001b[0m \u001b[0mprint\u001b[0m\u001b[0;34m(\u001b[0m\u001b[0mmy_set\u001b[0m\u001b[0;34m)\u001b[0m\u001b[0;34m\u001b[0m\u001b[0;34m\u001b[0m\u001b[0m\n",
            "\u001b[0;31mKeyError\u001b[0m: 'EVEN'"
          ]
        }
      ]
    },
    {
      "cell_type": "code",
      "metadata": {
        "id": "LGXGpaI-dTVy",
        "colab": {
          "base_uri": "https://localhost:8080/"
        },
        "outputId": "db703564-67c1-4592-ba5d-76ce3af005d7"
      },
      "source": [
        "# pop() : remove top element from set. sets are unordered so we cant sure which element is removed\n",
        "my_set = {'DS', 'OOPs', 'ML', 'Python Advanced', 'Python'}\n",
        "print(my_set)\n",
        "x = my_set.pop()\n",
        "print(x)"
      ],
      "execution_count": null,
      "outputs": [
        {
          "output_type": "stream",
          "text": [
            "{'ML', 'Python Advanced', 'DS', 'Python', 'OOPs'}\n",
            "ML\n"
          ],
          "name": "stdout"
        }
      ]
    },
    {
      "cell_type": "code",
      "metadata": {
        "colab": {
          "base_uri": "https://localhost:8080/"
        },
        "id": "qLumiOh1nZat",
        "outputId": "377d2ff0-94ce-4977-d226-7d21c23f6bf0"
      },
      "source": [
        "# clear / Delete a set\n",
        "my_set = {'DS', 'OOPs', 'ML', 'Python Advanced', 'Python'}\n",
        "my_set.clear()\n",
        "print(my_set)"
      ],
      "execution_count": null,
      "outputs": [
        {
          "output_type": "stream",
          "text": [
            "set()\n"
          ],
          "name": "stdout"
        }
      ]
    },
    {
      "cell_type": "code",
      "metadata": {
        "id": "cnHe-R_EoZ99"
      },
      "source": [
        "# SETs Vs LISTs  Vs DICTIONARIEs\n",
        "# Lists and Tuples\n",
        "# 1. Storing values in sequence\n",
        "# 2. Duplicates\n",
        "# Sets\n",
        "# 1. Unordered\n",
        "# 2. No duplicates are allowed\n",
        "# 3. Collection of unique keys\n",
        "# DICTIONARIEs\n",
        "# 1. Collection of keys and values"
      ],
      "execution_count": null,
      "outputs": []
    },
    {
      "cell_type": "code",
      "metadata": {
        "colab": {
          "base_uri": "https://localhost:8080/"
        },
        "id": "R2WKHbPzrkDP",
        "outputId": "85b0bbad-1a03-42d4-d5c7-96119b229fa8"
      },
      "source": [
        "# Set operations\n",
        "# union\n",
        "set1 = {1,2,3,4,5,6}\n",
        "set2 = {4,5,6,7,8,9}\n",
        "print(set1.union(set2)) # or print(set1 | set2)"
      ],
      "execution_count": null,
      "outputs": [
        {
          "output_type": "stream",
          "text": [
            "{1, 2, 3, 4, 5, 6, 7, 8, 9}\n"
          ],
          "name": "stdout"
        }
      ]
    },
    {
      "cell_type": "code",
      "metadata": {
        "colab": {
          "base_uri": "https://localhost:8080/"
        },
        "id": "fe94nfYUr4b_",
        "outputId": "dcc4d929-1952-4ea6-9c16-6d030d628502"
      },
      "source": [
        "# intersection\n",
        "set1 = {1,2,3,4,5,6}\n",
        "set2 = {4,5,6,7,8,9}\n",
        "print(set1.intersection(set2)) # or print( set1 & set2)"
      ],
      "execution_count": null,
      "outputs": [
        {
          "output_type": "stream",
          "text": [
            "{4, 5, 6}\n"
          ],
          "name": "stdout"
        }
      ]
    },
    {
      "cell_type": "code",
      "metadata": {
        "colab": {
          "base_uri": "https://localhost:8080/"
        },
        "id": "Hj76Ym5tsRTy",
        "outputId": "0e1b3f24-2160-441a-9eff-a4ba3faaa411"
      },
      "source": [
        "# difference\n",
        "set1 = {1,2,3,4,5,6}\n",
        "set2 = {4,5,6,7,8,9}\n",
        "print(set1.difference(set2)) # or print(set1 - set2)"
      ],
      "execution_count": null,
      "outputs": [
        {
          "output_type": "stream",
          "text": [
            "{1, 2, 3}\n"
          ],
          "name": "stdout"
        }
      ]
    },
    {
      "cell_type": "code",
      "metadata": {
        "colab": {
          "base_uri": "https://localhost:8080/"
        },
        "id": "PphV3wajsf4y",
        "outputId": "e59d3752-9308-48a6-ddca-abdf1d18dbb3"
      },
      "source": [
        "# symmetric difference \n",
        "set1 = {1,2,3,4,5,6}\n",
        "set2 = {4,5,6,7,8,9}\n",
        "print(set1.symmetric_difference(set2)) # or print(set1 ^ set2)"
      ],
      "execution_count": null,
      "outputs": [
        {
          "output_type": "stream",
          "text": [
            "{1, 2, 3, 7, 8, 9}\n"
          ],
          "name": "stdout"
        }
      ]
    },
    {
      "cell_type": "code",
      "metadata": {
        "colab": {
          "base_uri": "https://localhost:8080/"
        },
        "id": "ccBM34evtan9",
        "outputId": "ec648830-3f12-407c-c49d-4540cb9f17d1"
      },
      "source": [
        "# Sets Membership Test\n",
        "set1 = {1,2,3,4,5,6}\n",
        "print(4 in set1)\n",
        "print(4 not in set1)"
      ],
      "execution_count": null,
      "outputs": [
        {
          "output_type": "stream",
          "text": [
            "True\n",
            "False\n"
          ],
          "name": "stdout"
        }
      ]
    },
    {
      "cell_type": "code",
      "metadata": {
        "colab": {
          "base_uri": "https://localhost:8080/"
        },
        "id": "P1ECaBMHuK2G",
        "outputId": "1cd53b15-ebd6-402d-a7da-1b65ccabf6b9"
      },
      "source": [
        "# iterate through the set\n",
        "set1 = {1,2,3,4,5,6}\n",
        "for element in set1:\n",
        "  print(element)"
      ],
      "execution_count": null,
      "outputs": [
        {
          "output_type": "stream",
          "text": [
            "1\n",
            "2\n",
            "3\n",
            "4\n",
            "5\n",
            "6\n"
          ],
          "name": "stdout"
        }
      ]
    },
    {
      "cell_type": "code",
      "metadata": {
        "colab": {
          "base_uri": "https://localhost:8080/"
        },
        "id": "8cFd3VsouVrd",
        "outputId": "fb6dc1ac-e2ed-4ec5-c536-9760c0449d49"
      },
      "source": [
        "# length of set\n",
        "set1 = {1,2,3,4,5,6}\n",
        "print(len(set1))"
      ],
      "execution_count": null,
      "outputs": [
        {
          "output_type": "stream",
          "text": [
            "6\n"
          ],
          "name": "stdout"
        }
      ]
    },
    {
      "cell_type": "code",
      "metadata": {
        "colab": {
          "base_uri": "https://localhost:8080/",
          "height": 203
        },
        "id": "e3Kvbah1vwjM",
        "outputId": "4d7f5a07-1f57-448c-aa25-c8caa87358de"
      },
      "source": [
        "# Tuples are immutable lists\n",
        "# Frozen sets are immutable sets : frozen set is same as set but once the value is assigned it cannot changed.\n",
        "# initialization of frozen sets\n",
        "A = frozenset([1,2,3,4,5])\n",
        "A.add(4)\n"
      ],
      "execution_count": null,
      "outputs": [
        {
          "output_type": "error",
          "ename": "AttributeError",
          "evalue": "ignored",
          "traceback": [
            "\u001b[0;31m---------------------------------------------------------------------------\u001b[0m",
            "\u001b[0;31mAttributeError\u001b[0m                            Traceback (most recent call last)",
            "\u001b[0;32m<ipython-input-41-fafd5b4704e3>\u001b[0m in \u001b[0;36m<module>\u001b[0;34m()\u001b[0m\n\u001b[1;32m      3\u001b[0m \u001b[0;31m# initialization of frozen sets\u001b[0m\u001b[0;34m\u001b[0m\u001b[0;34m\u001b[0m\u001b[0;34m\u001b[0m\u001b[0m\n\u001b[1;32m      4\u001b[0m \u001b[0mA\u001b[0m \u001b[0;34m=\u001b[0m \u001b[0mfrozenset\u001b[0m\u001b[0;34m(\u001b[0m\u001b[0;34m[\u001b[0m\u001b[0;36m1\u001b[0m\u001b[0;34m,\u001b[0m\u001b[0;36m2\u001b[0m\u001b[0;34m,\u001b[0m\u001b[0;36m3\u001b[0m\u001b[0;34m,\u001b[0m\u001b[0;36m4\u001b[0m\u001b[0;34m,\u001b[0m\u001b[0;36m5\u001b[0m\u001b[0;34m]\u001b[0m\u001b[0;34m)\u001b[0m\u001b[0;34m\u001b[0m\u001b[0;34m\u001b[0m\u001b[0m\n\u001b[0;32m----> 5\u001b[0;31m \u001b[0mA\u001b[0m\u001b[0;34m.\u001b[0m\u001b[0madd\u001b[0m\u001b[0;34m(\u001b[0m\u001b[0;36m4\u001b[0m\u001b[0;34m)\u001b[0m\u001b[0;34m\u001b[0m\u001b[0;34m\u001b[0m\u001b[0m\n\u001b[0m",
            "\u001b[0;31mAttributeError\u001b[0m: 'frozenset' object has no attribute 'add'"
          ]
        }
      ]
    },
    {
      "cell_type": "markdown",
      "metadata": {
        "id": "bCg5MwL52qw8"
      },
      "source": [
        "Mr. Aakash is the manager at the star hotel. The hotel has an infinite amount of rooms. One fine day, a finite number of tourists come to stay at the hotel. The tourists consist of: → A Captain. → An unknown number of member The Captain was given a separate room, and the rest were given one room per member Mr. Aakash has an unordered list of randomly arranged room entries. The list consists of the room numbers for all of the tourists. The room numbers will appear many times in list for members except the Captain's room will appear only once in list. Mr. Aakash needs you to help him find the Captain's room number.let room number be : 1 2 3 6 5 4 4 2 5 3 6 1 6 5 3 2 4 1 2 5 1 4 3 6 8 4 3 1 5 6 2"
      ]
    },
    {
      "cell_type": "code",
      "metadata": {
        "colab": {
          "base_uri": "https://localhost:8080/"
        },
        "id": "6XnLdctHwsK_",
        "outputId": "d60d1779-d00d-4d67-9e23-8ea3e527c848"
      },
      "source": [
        "A = [1,2,3,6,5,4,4,2,5,3,6,1,6,5,3,2,4,1,2,5,1,4,3,6,8,4,3,1,5,6,2]\n",
        "B =set(A)\n",
        "for room in B:\n",
        "  if A.count(room) > 1:\n",
        "    pass\n",
        "  else:\n",
        "    print('Captain room number is: ',room)      "
      ],
      "execution_count": null,
      "outputs": [
        {
          "output_type": "stream",
          "text": [
            "Captain room number is:  8\n"
          ],
          "name": "stdout"
        }
      ]
    },
    {
      "cell_type": "code",
      "metadata": {
        "colab": {
          "base_uri": "https://localhost:8080/",
          "height": 167
        },
        "id": "qcU0YIB1x0SD",
        "outputId": "7807487b-c307-49b5-e960-fd2f9d0076df"
      },
      "source": [
        ""
      ],
      "execution_count": null,
      "outputs": [
        {
          "output_type": "error",
          "ename": "TypeError",
          "evalue": "ignored",
          "traceback": [
            "\u001b[0;31m---------------------------------------------------------------------------\u001b[0m",
            "\u001b[0;31mTypeError\u001b[0m                                 Traceback (most recent call last)",
            "\u001b[0;32m<ipython-input-48-2236669a2fa1>\u001b[0m in \u001b[0;36m<module>\u001b[0;34m()\u001b[0m\n\u001b[0;32m----> 1\u001b[0;31m \u001b[0mset1\u001b[0m \u001b[0;34m+\u001b[0m \u001b[0mset2\u001b[0m\u001b[0;34m\u001b[0m\u001b[0;34m\u001b[0m\u001b[0m\n\u001b[0m",
            "\u001b[0;31mTypeError\u001b[0m: unsupported operand type(s) for +: 'set' and 'set'"
          ]
        }
      ]
    },
    {
      "cell_type": "code",
      "metadata": {
        "colab": {
          "base_uri": "https://localhost:8080/"
        },
        "id": "5G01Ruroy4O8",
        "outputId": "d7a98965-8c92-4410-f43f-3f35deb0b1b8"
      },
      "source": [
        "\n",
        "s ='man'\n",
        "print(''.join(reversed(s)))\n",
        "print(s[::-1])\n"
      ],
      "execution_count": null,
      "outputs": [
        {
          "output_type": "stream",
          "text": [
            "nam\n",
            "nam\n"
          ],
          "name": "stdout"
        }
      ]
    },
    {
      "cell_type": "markdown",
      "metadata": {
        "id": "Ngq2uLS8Z2s1"
      },
      "source": [
        "Problem 4 : Python program to create a list of tuples from\n",
        "given list having number and its cube in each tuple"
      ]
    },
    {
      "cell_type": "code",
      "metadata": {
        "colab": {
          "base_uri": "https://localhost:8080/"
        },
        "id": "uqJ6zz4iCHDa",
        "outputId": "d0951a8a-a8c0-49f6-e5b5-070f38b448da"
      },
      "source": [
        "# Tuples:\n",
        "a =[9,5,6]\n",
        "print(list((k,k**3) for k in a)) "
      ],
      "execution_count": null,
      "outputs": [
        {
          "output_type": "stream",
          "text": [
            "[(9, 729), (5, 125), (6, 216)]\n"
          ],
          "name": "stdout"
        }
      ]
    },
    {
      "cell_type": "markdown",
      "metadata": {
        "id": "8YXVzsHlZxSf"
      },
      "source": [
        "Problem 5 : Python | Print an Inverted Star Pattern"
      ]
    },
    {
      "cell_type": "code",
      "metadata": {
        "colab": {
          "base_uri": "https://localhost:8080/"
        },
        "id": "jqmMkZ2nDX9u",
        "outputId": "b8fb3cd7-bfa6-4f47-9009-a445e78ef94e"
      },
      "source": [
        "#  inverted star pattern\n",
        "n = 5\n",
        "for i in range (n, 0, -1):\n",
        "  print((n-i) * ' ' + i * '*') "
      ],
      "execution_count": null,
      "outputs": [
        {
          "output_type": "stream",
          "text": [
            "*****\n",
            " ****\n",
            "  ***\n",
            "   **\n",
            "    *\n"
          ],
          "name": "stdout"
        }
      ]
    },
    {
      "cell_type": "markdown",
      "metadata": {
        "id": "coPcYEf3RWM7"
      },
      "source": [
        "Problem 11 : Reverse words in a given String in Python"
      ]
    },
    {
      "cell_type": "code",
      "metadata": {
        "colab": {
          "base_uri": "https://localhost:8080/"
        },
        "id": "viI3sbTJE2hx",
        "outputId": "d7f9ef1a-348e-4a69-b760-216701aa3889"
      },
      "source": [
        "s = 'python is good'\n",
        "print(' '.join(reversed(s.split(' '))))"
      ],
      "execution_count": null,
      "outputs": [
        {
          "output_type": "stream",
          "text": [
            "good is python\n"
          ],
          "name": "stdout"
        }
      ]
    },
    {
      "cell_type": "code",
      "metadata": {
        "colab": {
          "base_uri": "https://localhost:8080/"
        },
        "id": "xZn8b8OCLmBF",
        "outputId": "b532d5f5-fa0a-4f01-d900-5123c065cb28"
      },
      "source": [
        "list = ['name','exam','main','vikky','age','body','name','name']\n",
        "print ('name' in list)\n",
        "list.index('name',-1)"
      ],
      "execution_count": null,
      "outputs": [
        {
          "output_type": "stream",
          "text": [
            "True\n"
          ],
          "name": "stdout"
        },
        {
          "output_type": "execute_result",
          "data": {
            "text/plain": [
              "7"
            ]
          },
          "metadata": {
            "tags": []
          },
          "execution_count": 96
        }
      ]
    },
    {
      "cell_type": "code",
      "metadata": {
        "colab": {
          "base_uri": "https://localhost:8080/"
        },
        "id": "gsPkLimpMDsd",
        "outputId": "a68050b9-30c8-4b81-f6d7-857f761cdb86"
      },
      "source": [
        "list = [1,2,3,5,6,4,8,9,5]\n",
        "print(list[::-1])"
      ],
      "execution_count": null,
      "outputs": [
        {
          "output_type": "stream",
          "text": [
            "[5, 9, 8, 4, 6, 5, 3, 2, 1]\n"
          ],
          "name": "stdout"
        },
        {
          "output_type": "execute_result",
          "data": {
            "text/plain": [
              "<list_reverseiterator at 0x7faa7b4dfc10>"
            ]
          },
          "metadata": {
            "tags": []
          },
          "execution_count": 114
        }
      ]
    },
    {
      "cell_type": "markdown",
      "metadata": {
        "id": "DMMr_IwVRfEy"
      },
      "source": [
        "Python | Check if a Substring is Present in\n",
        "a Given String"
      ]
    },
    {
      "cell_type": "code",
      "metadata": {
        "colab": {
          "base_uri": "https://localhost:8080/"
        },
        "id": "tvAT8Ig-NMan",
        "outputId": "db572a2d-0715-46ce-a549-f9bc5b365203"
      },
      "source": [
        "s1 = input('Enter the string: ')\n",
        "s2 = input('Enter the sub string: ')\n",
        "if s2 in s1:\n",
        "  print('yes')\n",
        "else:\n",
        "  print('No')  "
      ],
      "execution_count": null,
      "outputs": [
        {
          "output_type": "stream",
          "text": [
            "True\n"
          ],
          "name": "stdout"
        }
      ]
    },
    {
      "cell_type": "markdown",
      "metadata": {
        "id": "AYIJJXnzR7XW"
      },
      "source": [
        "Problem 13 : Python program to print even length\n",
        "words in a string"
      ]
    },
    {
      "cell_type": "code",
      "metadata": {
        "colab": {
          "base_uri": "https://localhost:8080/"
        },
        "id": "gH_8aooNODlR",
        "outputId": "90cede88-d053-4097-87fa-e9037f52d96b"
      },
      "source": [
        "s = input('Enter the string: ')\n",
        "words = s.split(' ')\n",
        "for word in words:\n",
        "  if len(word)%2 ==0:\n",
        "    print(word)"
      ],
      "execution_count": null,
      "outputs": [
        {
          "output_type": "stream",
          "text": [
            "my\n",
            "name\n",
            "is\n",
            "vikram\n",
            "enimireddy\n",
            "your\n",
            "name\n",
            "un\n"
          ],
          "name": "stdout"
        }
      ]
    },
    {
      "cell_type": "markdown",
      "metadata": {
        "id": "o4olBVjfPMx0"
      },
      "source": [
        "Problem 14 : Python | Program to accept the strings\n",
        "which contains all vowels\n"
      ]
    },
    {
      "cell_type": "code",
      "metadata": {
        "colab": {
          "base_uri": "https://localhost:8080/"
        },
        "id": "86FhptIYOyw8",
        "outputId": "d0b86b06-fd76-43c4-c608-ef4b9306e087"
      },
      "source": [
        "s = input('enter the string: ')\n",
        "s1 = s.lower()\n",
        "elements = []\n",
        "vowels = ['a','e','i','o','u']\n",
        "for char in vowels:\n",
        "  if char in s1:\n",
        "    pass\n",
        "  else:\n",
        "    elements.append(char)\n",
        "    flag = False  \n",
        "if elements!=[]:\n",
        "  print(f'Not acceptable\\n {elements} are not present')\n",
        "else:\n",
        "  print('Acceptable\\n All Vowels are present')  \n"
      ],
      "execution_count": null,
      "outputs": [
        {
          "output_type": "stream",
          "text": [
            "enter the string: many enemies or unnamed\n",
            "Acceptable\n",
            " All Vowels are present\n"
          ],
          "name": "stdout"
        }
      ]
    },
    {
      "cell_type": "markdown",
      "metadata": {
        "id": "sQrP3sEoaP2r"
      },
      "source": [
        "Problem 15 : Remove all duplicates from a given string\n",
        "in Python"
      ]
    },
    {
      "cell_type": "code",
      "metadata": {
        "colab": {
          "base_uri": "https://localhost:8080/"
        },
        "id": "2Emj-pHgbiiU",
        "outputId": "8c1aa2f8-5aae-46f3-899f-92627eb791f6"
      },
      "source": [
        "s = input('Enter the string: ')\n",
        "s1 = sorted(set(char for char in s ))\n",
        "for char in s1:\n",
        "  print(char, end = '')\n"
      ],
      "execution_count": null,
      "outputs": [
        {
          "output_type": "stream",
          "text": [
            "Enter the string: geekforgeeks\n",
            "efgkors"
          ],
          "name": "stdout"
        }
      ]
    },
    {
      "cell_type": "markdown",
      "metadata": {
        "id": "XM5KPdboeUK-"
      },
      "source": [
        "Problem 16 : Python program to find the sum of all\n",
        "items in a dictionary"
      ]
    },
    {
      "cell_type": "code",
      "metadata": {
        "colab": {
          "base_uri": "https://localhost:8080/"
        },
        "id": "GJKZssxUcLc7",
        "outputId": "7d81322f-4a19-4829-a5d6-1276a45c7adc"
      },
      "source": [
        "a =  {'a': 100, 'b':200, 'c':300}\n",
        "total = 0\n",
        "for value in a.values():\n",
        "  total+=value\n",
        "print(total)  "
      ],
      "execution_count": null,
      "outputs": [
        {
          "output_type": "stream",
          "text": [
            "600\n"
          ],
          "name": "stdout"
        }
      ]
    },
    {
      "cell_type": "markdown",
      "metadata": {
        "id": "d3EIRw-Wg5aK"
      },
      "source": [
        "Problem 17 : Python | Convert a list of Tuples into\n",
        "Dictionary"
      ]
    },
    {
      "cell_type": "code",
      "metadata": {
        "colab": {
          "base_uri": "https://localhost:8080/"
        },
        "id": "2FBqB9GZe6hR",
        "outputId": "9d0de843-ec97-46f7-e897-01eafdda53fa"
      },
      "source": [
        "a = [(\"akash\", 10), (\"gaurav\", 12), (\"anand\", 14), (\"suraj\", 20), (\"akhil\", 25), (\"ashish\", 30)]\n",
        "b = dict(a)\n",
        "print(b)"
      ],
      "execution_count": null,
      "outputs": [
        {
          "output_type": "stream",
          "text": [
            "{'akash': 10, 'gaurav': 12, 'anand': 14, 'suraj': 20, 'akhil': 25, 'ashish': 30}\n"
          ],
          "name": "stdout"
        }
      ]
    },
    {
      "cell_type": "markdown",
      "metadata": {
        "id": "_A-wBQQPu9h1"
      },
      "source": [
        "Problem 18 : Python Program for Tower of Hanoi\n"
      ]
    },
    {
      "cell_type": "code",
      "metadata": {
        "colab": {
          "base_uri": "https://localhost:8080/"
        },
        "id": "JxWpwYHBfr2A",
        "outputId": "ea8c8254-2fc8-4f12-84f1-e95eeae7ad35"
      },
      "source": [
        "# Recursive Python function to solve the tower of hanoi\n",
        "  \n",
        "def TowerOfHanoi(n , source, destination, auxiliary):\n",
        "    if n==1:\n",
        "        print (f\"Move disk 1 from source\",source,\"to destination\",destination)\n",
        "        return\n",
        "    TowerOfHanoi(n-1, source, auxiliary, destination)\n",
        "    print(f\"Move disk\",n,\"from source\",source,\"to destination\",destination)\n",
        "    TowerOfHanoi(n-1, auxiliary, destination, source)\n",
        "n = 3\n",
        "TowerOfHanoi(n,'A','B','C')     "
      ],
      "execution_count": null,
      "outputs": [
        {
          "output_type": "stream",
          "text": [
            "Move disk 1 from source A to destination B\n",
            "Move disk 2 from source A to destination C\n",
            "Move disk 1 from source B to destination C\n",
            "Move disk 3 from source A to destination B\n",
            "Move disk 1 from source C to destination A\n",
            "Move disk 2 from source C to destination B\n",
            "Move disk 1 from source A to destination B\n"
          ],
          "name": "stdout"
        }
      ]
    },
    {
      "cell_type": "markdown",
      "metadata": {
        "id": "9_VNZczJrwvN"
      },
      "source": [
        "Problem 19 : Python program to copy odd lines of one\n",
        "file to other"
      ]
    },
    {
      "cell_type": "code",
      "metadata": {
        "colab": {
          "base_uri": "https://localhost:8080/"
        },
        "id": "Y1VI0w_pkBip",
        "outputId": "e5d91197-e136-4a2a-e528-1d08557c0772"
      },
      "source": [
        "f = open('file1.txt','r')\n",
        "data = f.readlines()\n",
        "lines=data[0:len(data):2]\n",
        "for line in lines:\n",
        "  print(line)"
      ],
      "execution_count": null,
      "outputs": [
        {
          "output_type": "stream",
          "text": [
            "Hello\n",
            "\n",
            "Python\n",
            "\n"
          ],
          "name": "stdout"
        }
      ]
    },
    {
      "cell_type": "markdown",
      "metadata": {
        "id": "9QXwjAw6uBMz"
      },
      "source": [
        "Problem 20 : Python program to check if a string\n",
        "contains all unique characters"
      ]
    },
    {
      "cell_type": "code",
      "metadata": {
        "colab": {
          "base_uri": "https://localhost:8080/"
        },
        "id": "pAJgTQ4jsuQv",
        "outputId": "cb776fd1-a1ee-4be8-f2e3-77da2fe4dade"
      },
      "source": [
        "s = input('Enter the number: ')\n",
        "s1=set(s)\n",
        "print(len(s) == len(s1))"
      ],
      "execution_count": null,
      "outputs": [
        {
          "output_type": "stream",
          "text": [
            "Enter the number: a b c d\n",
            "False\n"
          ],
          "name": "stdout"
        }
      ]
    },
    {
      "cell_type": "code",
      "metadata": {
        "id": "yltCpShXuRm6"
      },
      "source": [
        ""
      ],
      "execution_count": null,
      "outputs": []
    },
    {
      "cell_type": "markdown",
      "metadata": {
        "id": "JjKYnqzSxfGz"
      },
      "source": [
        "# Searching Sorting Complexity Analysis"
      ]
    },
    {
      "cell_type": "markdown",
      "metadata": {
        "id": "2c1wKkCCxxnY"
      },
      "source": [
        "Problem 1 : Python Program for Linear Search\n",
        "\n",
        "Examples :\n",
        "\n",
        "Input : arr[] = {10, 20, 80, 30, 60, 50,\n",
        " 110, 100, 130, 170}\n",
        "\n",
        "x = 110;\n",
        "\n",
        "Output : 6\n",
        "\n",
        "Element x is present at index 6\n"
      ]
    },
    {
      "cell_type": "code",
      "metadata": {
        "colab": {
          "base_uri": "https://localhost:8080/",
          "height": 35
        },
        "id": "iE7vLx2_xnQU",
        "outputId": "4850959e-5cc1-4370-a80a-205ded3961a2"
      },
      "source": [
        "def linearsearch(arr,x):\n",
        "  for i in range(len(arr)):\n",
        "    if arr[i] == x:\n",
        "      return(f'Element {x} is present at {i}')\n",
        "      break\n",
        "  return(-1)  \n",
        "arr = [10, 20, 80, 30, 60, 50, 110, 100, 130, 170]\n",
        "x = 60\n",
        "linearsearch(arr,x)"
      ],
      "execution_count": null,
      "outputs": [
        {
          "output_type": "execute_result",
          "data": {
            "application/vnd.google.colaboratory.intrinsic+json": {
              "type": "string"
            },
            "text/plain": [
              "'Element 60 is present at 4'"
            ]
          },
          "metadata": {
            "tags": []
          },
          "execution_count": 190
        }
      ]
    },
    {
      "cell_type": "markdown",
      "metadata": {
        "id": "-aEpzMcY2xE7"
      },
      "source": [
        "Problem 2 : Python Program for Binary Search\n",
        "(Recursive)"
      ]
    },
    {
      "cell_type": "code",
      "metadata": {
        "colab": {
          "base_uri": "https://localhost:8080/"
        },
        "id": "KS7fqf5pzaoB",
        "outputId": "fa09bb81-229b-47e8-f634-7f3a84907033"
      },
      "source": [
        "def binarysearch(arr,low,high,x):\n",
        " if high>=low:\n",
        "   mid = (low + high)//2\n",
        "   if arr[mid] == x:\n",
        "     return (f'Element {x} is present at {mid}')\n",
        "   elif arr[mid] > x:\n",
        "     return binarysearch(arr,low,mid-1,x)\n",
        "   else:\n",
        "     return binarysearch(arr,mid+1,high,x)\n",
        " else:\n",
        "   return -1     \n",
        "arr = [10, 20, 30, 50, 100, 130, 170]\n",
        "x = 50\n",
        "print(binarysearch(arr,0,len(arr),x))"
      ],
      "execution_count": null,
      "outputs": [
        {
          "output_type": "stream",
          "text": [
            "Element 50 is present at 3\n"
          ],
          "name": "stdout"
        }
      ]
    },
    {
      "cell_type": "markdown",
      "metadata": {
        "id": "nLJ4DSRE9rAl"
      },
      "source": [
        "Problem 2 : Python Program for Binary Search\n",
        " (Iterative)"
      ]
    },
    {
      "cell_type": "code",
      "metadata": {
        "colab": {
          "base_uri": "https://localhost:8080/"
        },
        "id": "2XlU5qVI460p",
        "outputId": "90f171c4-76af-40ed-80fd-161c570fa2f7"
      },
      "source": [
        "def binarysearch(arr,low,high,x):\n",
        " while high>=low:\n",
        "   mid = (low + high)//2\n",
        "   if arr[mid] > x:\n",
        "     high = mid-1\n",
        "   elif arr[mid] < x:\n",
        "     low = mid+1\n",
        "   else:\n",
        "     return mid  \n",
        " else:\n",
        "   return -1     \n",
        "arr = [10, 20, 30, 50, 100, 130, 170]\n",
        "x = 170\n",
        "print(binarysearch(arr,0,len(arr),x))"
      ],
      "execution_count": null,
      "outputs": [
        {
          "output_type": "stream",
          "text": [
            "6\n"
          ],
          "name": "stdout"
        }
      ]
    },
    {
      "cell_type": "markdown",
      "metadata": {
        "id": "VDCDU5N-De9I"
      },
      "source": [
        "Python Program for QuickSort"
      ]
    },
    {
      "cell_type": "code",
      "metadata": {
        "colab": {
          "base_uri": "https://localhost:8080/"
        },
        "id": "QHJl__p8-wBr",
        "outputId": "394955df-1a20-4ec9-bba2-1e60e22a48ed"
      },
      "source": [
        "def partition(arr,low, high):\n",
        "  i= low - 1\n",
        "  pivot = arr[high]\n",
        "  for j in range(low,high):\n",
        "    if arr[low]<= pivot:\n",
        "      i=i+1\n",
        "      arr[i],arr[j] = arr[j],arr[i]\n",
        "  arr[i+1],arr[high] = arr[high],arr[i+1]\n",
        "  return i+1\n",
        "def quickSort(arr,low,high):\n",
        "  if low < high:\n",
        "    pi = partition(arr,low,high)\n",
        "    quickSort(arr, low, pi-1)\n",
        "    quickSort(arr, pi+1, high)\n",
        "arr = [10, 7, 8, 9, 1, 5]\n",
        "n = len(arr)\n",
        "quickSort(arr,0,n-1)     \n",
        "print (\"Sorted array is:\")\n",
        "for i in range(n):\n",
        "  print (\"%d\" %arr[i]), "
      ],
      "execution_count": null,
      "outputs": [
        {
          "output_type": "stream",
          "text": [
            "Sorted array is:\n",
            "5\n",
            "1\n",
            "7\n",
            "8\n",
            "9\n",
            "10\n"
          ],
          "name": "stdout"
        }
      ]
    },
    {
      "cell_type": "code",
      "metadata": {
        "colab": {
          "base_uri": "https://localhost:8080/"
        },
        "id": "6lDbPdcaHFQZ",
        "outputId": "f9c8cb38-ebd3-4ee6-bb15-fbf0f8230a78"
      },
      "source": [
        "%timeit\n",
        "arr = [10, 7, 8, 10, 19, 23, 9, 1, 5]\n",
        "for i in range(0,len(arr)-1):\n",
        "  for j in range(0,len(arr)-1):\n",
        "    if arr[j]>arr[j+1]:\n",
        "      arr[j],arr[j+1] = arr[j+1],arr[j]\n",
        "    else:\n",
        "      pass  \n",
        "print(arr)  "
      ],
      "execution_count": null,
      "outputs": [
        {
          "output_type": "stream",
          "text": [
            "[1, 5, 7, 8, 9, 10, 10, 19, 23]\n"
          ],
          "name": "stdout"
        }
      ]
    },
    {
      "cell_type": "code",
      "metadata": {
        "id": "V0S2TvgoHEcf"
      },
      "source": [
        ""
      ],
      "execution_count": null,
      "outputs": []
    }
  ]
}