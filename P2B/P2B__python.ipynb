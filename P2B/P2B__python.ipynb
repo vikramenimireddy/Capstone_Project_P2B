{
  "nbformat": 4,
  "nbformat_minor": 0,
  "metadata": {
    "colab": {
      "name": "P2B_ python.ipynb",
      "provenance": [],
      "collapsed_sections": [],
      "toc_visible": true
    },
    "kernelspec": {
      "name": "python3",
      "display_name": "Python 3"
    },
    "language_info": {
      "name": "python"
    }
  },
  "cells": [
    {
      "cell_type": "code",
      "metadata": {
        "colab": {
          "base_uri": "https://localhost:8080/"
        },
        "id": "I8tyJVlBaMpS",
        "outputId": "1e19e111-7cef-4038-ecb6-737ea8daadc0"
      },
      "source": [
        "print(\"Hello World\")"
      ],
      "execution_count": null,
      "outputs": [
        {
          "output_type": "stream",
          "text": [
            "Hello World\n"
          ],
          "name": "stdout"
        }
      ]
    },
    {
      "cell_type": "code",
      "metadata": {
        "id": "PzG7U-PTQ-R4"
      },
      "source": [
        ""
      ],
      "execution_count": null,
      "outputs": []
    },
    {
      "cell_type": "markdown",
      "metadata": {
        "id": "SOUiwzrnRbSZ"
      },
      "source": [
        "# Constants\n",
        "  1. numerical constants : 1,2,3,4\n",
        "  2. strings : characters, words"
      ]
    },
    {
      "cell_type": "code",
      "metadata": {
        "id": "mvEj3gaZaQa2",
        "colab": {
          "base_uri": "https://localhost:8080/"
        },
        "outputId": "8fe18891-bc15-4350-8c87-a810e540ecb6"
      },
      "source": [
        "# data type\n",
        "\n",
        "a='test'\n",
        "b=1\n",
        "c=True\n",
        "print(type(a)),print(type(b),1),print(type(c),1)"
      ],
      "execution_count": null,
      "outputs": [
        {
          "output_type": "stream",
          "text": [
            "<class 'str'>\n",
            "<class 'int'>\n",
            "<class 'bool'>\n"
          ],
          "name": "stdout"
        },
        {
          "output_type": "execute_result",
          "data": {
            "text/plain": [
              "(None, None, None)"
            ]
          },
          "metadata": {
            "tags": []
          },
          "execution_count": 9
        }
      ]
    },
    {
      "cell_type": "code",
      "metadata": {
        "id": "V9sErVJVaq17",
        "colab": {
          "base_uri": "https://localhost:8080/"
        },
        "outputId": "b2ca90fc-e62d-4031-8fef-d4aad8d03252"
      },
      "source": [
        "# Variables : Named place of memory\n",
        "a=10\n",
        "b=20\n",
        "a=30\n",
        "print(a)\n",
        "# here a and b are variables we use variables for storing and retrieval of data. we can modify the values of variables.b"
      ],
      "execution_count": null,
      "outputs": [
        {
          "output_type": "stream",
          "text": [
            "30\n"
          ],
          "name": "stdout"
        }
      ]
    },
    {
      "cell_type": "markdown",
      "metadata": {
        "id": "ipVb0Gb8SU2G"
      },
      "source": [
        "#  Precedence \n",
        "\n",
        "1. Paranthesis\n",
        "2. power \n",
        "3. multiplication\n",
        "4. Addition \n",
        "5. Substraction"
      ]
    },
    {
      "cell_type": "markdown",
      "metadata": {
        "id": "okbPFr7TSwwY"
      },
      "source": [
        "# Type conversion and String conversions\n",
        "\n",
        "1. int()\n",
        "2. float()"
      ]
    },
    {
      "cell_type": "code",
      "metadata": {
        "colab": {
          "base_uri": "https://localhost:8080/"
        },
        "id": "gHHwJrQ0S4qO",
        "outputId": "67eb5ec6-c2ff-4c03-8c34-283d5452a653"
      },
      "source": [
        "a = 42\n",
        "b = 99.0\n",
        "c = a+b\n",
        "print(type(c)) # It will give float\n",
        "#  Conversion into int\n",
        "d = int(c) \n",
        "print(type(d))"
      ],
      "execution_count": null,
      "outputs": [
        {
          "output_type": "stream",
          "text": [
            "<class 'float'>\n",
            "<class 'int'>\n",
            "<class 'float'>\n"
          ],
          "name": "stdout"
        }
      ]
    },
    {
      "cell_type": "code",
      "metadata": {
        "colab": {
          "base_uri": "https://localhost:8080/"
        },
        "id": "jzmp1YkSTwqN",
        "outputId": "2c1de99e-2f9d-4ada-cc25-215d2b1ec4e1"
      },
      "source": [
        "#  Integer division always gives float\n",
        "print(type(6/2))"
      ],
      "execution_count": null,
      "outputs": [
        {
          "output_type": "stream",
          "text": [
            "<class 'float'>\n"
          ],
          "name": "stdout"
        }
      ]
    },
    {
      "cell_type": "code",
      "metadata": {
        "colab": {
          "base_uri": "https://localhost:8080/"
        },
        "id": "HsyLm_WkU7jl",
        "outputId": "1af3b995-499f-4133-a705-a7bf6077fa0e"
      },
      "source": [
        "# floor division always gives int\n",
        "print(type(67//2))"
      ],
      "execution_count": null,
      "outputs": [
        {
          "output_type": "stream",
          "text": [
            "<class 'int'>\n"
          ],
          "name": "stdout"
        }
      ]
    },
    {
      "cell_type": "code",
      "metadata": {
        "colab": {
          "base_uri": "https://localhost:8080/"
        },
        "id": "a-067J5fVALo",
        "outputId": "e51711a3-46ab-45d3-9fb0-95bbb456feb9"
      },
      "source": [
        "# string to float\n",
        "a = '2'\n",
        "print(type(a))\n",
        "b = int(a)\n",
        "print(type(b))\n",
        "# now we can add numbers to b\n",
        "print(b+2)"
      ],
      "execution_count": null,
      "outputs": [
        {
          "output_type": "stream",
          "text": [
            "<class 'str'>\n",
            "<class 'int'>\n",
            "4\n"
          ],
          "name": "stdout"
        }
      ]
    },
    {
      "cell_type": "markdown",
      "metadata": {
        "id": "djHKLddoW8wd"
      },
      "source": [
        "# User input\n",
        "\n",
        "function : input()"
      ]
    },
    {
      "cell_type": "code",
      "metadata": {
        "colab": {
          "base_uri": "https://localhost:8080/"
        },
        "id": "XPZukDJsXCxt",
        "outputId": "8f97c306-85ef-4af4-f840-8ac74d7a44af"
      },
      "source": [
        "name = input(\"what's your name ? \\n\")\n",
        "print(\"Welcome\", name)\n",
        "print(\"Have a Nice day\")"
      ],
      "execution_count": null,
      "outputs": [
        {
          "output_type": "stream",
          "text": [
            "what's your name ? \n",
            "vikram\n",
            "Welcome vikram\n",
            "Have a Nice day\n"
          ],
          "name": "stdout"
        }
      ]
    },
    {
      "cell_type": "code",
      "metadata": {
        "colab": {
          "base_uri": "https://localhost:8080/"
        },
        "id": "Fz7moTnYXtOo",
        "outputId": "eab9c22c-c25f-4e9c-f8df-917aa7a62679"
      },
      "source": [
        "number = input(\"Enter a number: \")\n",
        "adding_1 = int(number)+1\n",
        "print(\"number after adding 1 is : \", adding_1)"
      ],
      "execution_count": null,
      "outputs": [
        {
          "output_type": "stream",
          "text": [
            "Enter a number: 100\n",
            "number after adding 1 is :  101\n"
          ],
          "name": "stdout"
        }
      ]
    },
    {
      "cell_type": "code",
      "metadata": {
        "colab": {
          "base_uri": "https://localhost:8080/"
        },
        "id": "RLJjIr4uaXrK",
        "outputId": "904bede9-266b-41d4-aa93-55dba2d7b48e"
      },
      "source": [
        "type(print(89.8))"
      ],
      "execution_count": null,
      "outputs": [
        {
          "output_type": "stream",
          "text": [
            "89.8\n"
          ],
          "name": "stdout"
        },
        {
          "output_type": "execute_result",
          "data": {
            "text/plain": [
              "NoneType"
            ]
          },
          "metadata": {
            "tags": []
          },
          "execution_count": 42
        }
      ]
    },
    {
      "cell_type": "code",
      "metadata": {
        "colab": {
          "base_uri": "https://localhost:8080/"
        },
        "id": "kdWC7sEsaulg",
        "outputId": "f11cd5d8-1e16-4625-a559-4577b743a5ef"
      },
      "source": [
        "j=4\n",
        "j=j+4\n",
        "print(j)"
      ],
      "execution_count": null,
      "outputs": [
        {
          "output_type": "stream",
          "text": [
            "8\n"
          ],
          "name": "stdout"
        }
      ]
    },
    {
      "cell_type": "code",
      "metadata": {
        "colab": {
          "base_uri": "https://localhost:8080/"
        },
        "id": "cDef5YCdbbpQ",
        "outputId": "16f19f19-8a52-47ba-a990-1a71a28c5e29"
      },
      "source": [
        "1 + 3 * 2 - 8 / 4"
      ],
      "execution_count": null,
      "outputs": [
        {
          "output_type": "execute_result",
          "data": {
            "text/plain": [
              "5.0"
            ]
          },
          "metadata": {
            "tags": []
          },
          "execution_count": 45
        }
      ]
    },
    {
      "cell_type": "code",
      "metadata": {
        "colab": {
          "base_uri": "https://localhost:8080/"
        },
        "id": "86dBz06Gbloq",
        "outputId": "0650f28c-598b-43a4-a1cd-165be19d43a9"
      },
      "source": [
        "int(89.7)"
      ],
      "execution_count": null,
      "outputs": [
        {
          "output_type": "execute_result",
          "data": {
            "text/plain": [
              "89"
            ]
          },
          "metadata": {
            "tags": []
          },
          "execution_count": 46
        }
      ]
    },
    {
      "cell_type": "markdown",
      "metadata": {
        "id": "S-98WYDodWRz"
      },
      "source": [
        "Question 1 : Write a program to prompt the user for days and rate per day to compute total pay. Use 50 days and a rate of 3.5 per day to test the program. Total pay is equal to (days* Rate per day). You should use input to read a string and float() to convert the string to a number. Don't worry about error checking or bad user data. Good Job!"
      ]
    },
    {
      "cell_type": "code",
      "metadata": {
        "colab": {
          "base_uri": "https://localhost:8080/"
        },
        "id": "lKGdyI3pdYmQ",
        "outputId": "e130863e-3f38-4dd8-99c4-318418b4d038"
      },
      "source": [
        "days = input(\"Enter the no.of days: \")\n",
        "rate_per_day = input(\"Enter rate per day: \")\n",
        "print(\"Total pay is:\",float(days)*float(rate_per_day))"
      ],
      "execution_count": null,
      "outputs": [
        {
          "output_type": "stream",
          "text": [
            "Enter the no.of days: 5\n",
            "Enter rate per day: 50\n",
            "Total pay is: 250.0\n"
          ],
          "name": "stdout"
        }
      ]
    },
    {
      "cell_type": "code",
      "metadata": {
        "id": "yYRLnqYPeSHT"
      },
      "source": [
        ""
      ],
      "execution_count": null,
      "outputs": []
    },
    {
      "cell_type": "markdown",
      "metadata": {
        "id": "rXDZ6ehBiuEI"
      },
      "source": [
        "# **Decisions** : **Oneway**"
      ]
    },
    {
      "cell_type": "code",
      "metadata": {
        "colab": {
          "base_uri": "https://localhost:8080/"
        },
        "id": "wBHOSjVLi4zX",
        "outputId": "bc3161b8-523a-4956-ff9e-9599fd22a9ed"
      },
      "source": [
        "x=2\n",
        "print('Before 2')\n",
        "if x == 2:\n",
        "  print('Is 2')\n",
        "  print('Still 2')\n",
        "print('After 2')\n",
        "print('Before 3')\n",
        "if x == 3:\n",
        "    print('Is 3')\n",
        "    print('Still 3')\n",
        "print('After 3')"
      ],
      "execution_count": null,
      "outputs": [
        {
          "output_type": "stream",
          "text": [
            "Before 2\n",
            "Is 2\n",
            "Still 2\n",
            "After 2\n",
            "Before 3\n",
            "After 3\n"
          ],
          "name": "stdout"
        }
      ]
    },
    {
      "cell_type": "markdown",
      "metadata": {
        "id": "XFQOelJGkgws"
      },
      "source": [
        "#**Decisions : Multiway**"
      ]
    },
    {
      "cell_type": "code",
      "metadata": {
        "colab": {
          "base_uri": "https://localhost:8080/"
        },
        "id": "u4y_KZfEjccr",
        "outputId": "64bb0b19-2de9-4fe8-d2b9-e20ff3736d5d"
      },
      "source": [
        "# Nested IF example\n",
        "num = float(input('Enter a number: '))\n",
        "if num >= 0:\n",
        "  if num == 0:\n",
        "    print('Zero')\n",
        "  else:\n",
        "    print('Positive Number')\n",
        "else:\n",
        "  print('Negative Number')    "
      ],
      "execution_count": null,
      "outputs": [
        {
          "output_type": "stream",
          "text": [
            "Enter a number: 0.0\n",
            "Zero\n"
          ],
          "name": "stdout"
        }
      ]
    },
    {
      "cell_type": "code",
      "metadata": {
        "colab": {
          "base_uri": "https://localhost:8080/"
        },
        "id": "MT1gMM5_kN2K",
        "outputId": "5e41e821-6d85-42a9-b05d-ccb61a2280d6"
      },
      "source": [
        "num = float(input('Enter a number: '))\n",
        "if num >= 0:\n",
        "  print('Positive Number')\n",
        "elif num == 0:\n",
        "  print(\"Zero\")\n",
        "else:\n",
        "  print('Negative Number')\n",
        "print('End')\n"
      ],
      "execution_count": null,
      "outputs": [
        {
          "output_type": "stream",
          "text": [
            "Enter a number: -0.9\n",
            "Negative Number\n",
            "End\n"
          ],
          "name": "stdout"
        }
      ]
    },
    {
      "cell_type": "markdown",
      "metadata": {
        "id": "3F20n2tUmhlM"
      },
      "source": [
        "# **Try / Except Clause**"
      ]
    },
    {
      "cell_type": "code",
      "metadata": {
        "colab": {
          "base_uri": "https://localhost:8080/"
        },
        "id": "eBgesG6Cmkj4",
        "outputId": "d7075b0e-b334-4328-9b17-daa8726753da"
      },
      "source": [
        "str = 'Hello Bob'\n",
        "try:\n",
        "  int_str = int(str)\n",
        "except:\n",
        "  int_str = -1\n",
        "print('First',int_str)  \n",
        "\n",
        "str = '123'\n",
        "try:\n",
        "  int_str = int(str)\n",
        "except:\n",
        "  int_str = -1\n",
        "print('Second',int_str) "
      ],
      "execution_count": null,
      "outputs": [
        {
          "output_type": "stream",
          "text": [
            "First -1\n",
            "Second 123\n"
          ],
          "name": "stdout"
        }
      ]
    },
    {
      "cell_type": "code",
      "metadata": {
        "colab": {
          "base_uri": "https://localhost:8080/"
        },
        "id": "Dd_cE97KoCCG",
        "outputId": "3176110b-818b-4cec-d9c1-ec9f36616ea4"
      },
      "source": [
        "def divide(x=10,y=2):\n",
        "  try:\n",
        "    result = x/y\n",
        "    print('Your answert is: ', result)\n",
        "  except:\n",
        "    try:\n",
        "      result = float(x)/float(y)\n",
        "      print('Your answer is: ', result)\n",
        "    except :\n",
        "      print('Sorry! You are dividing with zero')\n",
        "divide()"
      ],
      "execution_count": null,
      "outputs": [
        {
          "output_type": "stream",
          "text": [
            "Your answert is:  5.0\n"
          ],
          "name": "stdout"
        }
      ]
    },
    {
      "cell_type": "code",
      "metadata": {
        "colab": {
          "base_uri": "https://localhost:8080/"
        },
        "id": "FfFRIQQipVHe",
        "outputId": "23b87517-2083-42c6-abab-2b36f690723b"
      },
      "source": [
        "num = input(\"enter a number: \")\n",
        "try:\n",
        "  val = int(num)\n",
        "  print(\"conversion successful\")\n",
        "except:\n",
        "  val =-1\n",
        "if val >0 :\n",
        "  print ('Answer is ',val)\n",
        "else:\n",
        "  print(\"Not a number\")  \n"
      ],
      "execution_count": null,
      "outputs": [
        {
          "output_type": "stream",
          "text": [
            "enter a number: aaa\n",
            "Not a number\n"
          ],
          "name": "stdout"
        }
      ]
    },
    {
      "cell_type": "markdown",
      "metadata": {
        "id": "HSNBrezEzQl2"
      },
      "source": [
        "Question 1 : Rewrite your pay program using try and except so that your program handles non-numeric input gracefully by printing a message and exiting the program. The following shows two executions of the program: Enter Days: 20. Enter Rate: nine. Error, please enter numeric input Enter Days: forty Error, please enter numeric input"
      ]
    },
    {
      "cell_type": "code",
      "metadata": {
        "colab": {
          "base_uri": "https://localhost:8080/"
        },
        "id": "WKy0HUA3uFa-",
        "outputId": "f4dbd5b3-6ea5-4546-d4b5-3ad0f581316b"
      },
      "source": [
        "days = input(\"Enter the no.of days: \")\n",
        "rate_per_day = input(\"Enter rate per day: \")\n",
        "try:\n",
        "  total_pay = float(days)*float(rate_per_day)\n",
        "  print('Total pay is:',total_pay)\n",
        "except:\n",
        "  print('Sorry! Please, Enter numerical data')  "
      ],
      "execution_count": null,
      "outputs": [
        {
          "output_type": "stream",
          "text": [
            "Enter the no.of days: '5'\n",
            "Enter rate per day: '10'\n",
            "Sorry! Please, Enter numerical data\n"
          ],
          "name": "stdout"
        }
      ]
    },
    {
      "cell_type": "code",
      "metadata": {
        "colab": {
          "base_uri": "https://localhost:8080/"
        },
        "id": "bVdMob_10L9h",
        "outputId": "e679d3dc-ce4f-4ec2-99ef-14e2a657a604"
      },
      "source": [
        "days = input(\"Enter the no.of days: \")\n",
        "try:\n",
        "  days = float(days)\n",
        "  rate_per_day = input(\"Enter rate per day: \")\n",
        "  total_pay = float(days)*float(rate_per_day)\n",
        "  print('Total pay is:',total_pay)\n",
        "except:\n",
        "  print('Error, please enter numeric input')  "
      ],
      "execution_count": null,
      "outputs": [
        {
          "output_type": "stream",
          "text": [
            "Enter the no.of days: ten\n",
            "please enter numeric input\n"
          ],
          "name": "stdout"
        }
      ]
    },
    {
      "cell_type": "code",
      "metadata": {
        "colab": {
          "base_uri": "https://localhost:8080/"
        },
        "id": "xomkl34n1KiA",
        "outputId": "1b3270c5-e0c6-45ef-9597-fcb26737c0be"
      },
      "source": [
        "xh = input(\"Enter Days:\")\n",
        "xr = input(\"Enter Rate:\")\n",
        "try:\n",
        "  fh = float(xh)\n",
        "  fr = float(xr)\n",
        "except:\n",
        "  print(\"Error, please enter numeric input\")"
      ],
      "execution_count": null,
      "outputs": [
        {
          "output_type": "stream",
          "text": [
            "Enter Days:nine\n",
            "Enter Rate:ten\n",
            "Error, please enter numeric input\n"
          ],
          "name": "stdout"
        }
      ]
    },
    {
      "cell_type": "markdown",
      "metadata": {
        "id": "OiFJlDQZ_YoU"
      },
      "source": [
        "# Functions : Stored and reused things"
      ]
    },
    {
      "cell_type": "code",
      "metadata": {
        "colab": {
          "base_uri": "https://localhost:8080/"
        },
        "id": "VVHWB12U3xkr",
        "outputId": "0e36ae88-1d09-4c61-d572-6b9ff5d83d42"
      },
      "source": [
        "def myfunction():\n",
        "  print('hi')\n",
        "  print('whatsup')\n",
        "myfunction()\n",
        "print('not in function')\n",
        "myfunction()"
      ],
      "execution_count": null,
      "outputs": [
        {
          "output_type": "stream",
          "text": [
            "hi\n",
            "whatsup\n",
            "not in function\n",
            "hi\n",
            "whatsup\n"
          ],
          "name": "stdout"
        }
      ]
    },
    {
      "cell_type": "code",
      "metadata": {
        "colab": {
          "base_uri": "https://localhost:8080/"
        },
        "id": "JcCbCtHbBjFj",
        "outputId": "74b09d20-c0ba-49bb-e4ee-f9a0ccd2e217"
      },
      "source": [
        "def myfunction(lang):\n",
        "  if lang == 'es' :\n",
        "    print('Hola')\n",
        "  elif lang == 'fr' :\n",
        "    print('Bonjour')\n",
        "  else:\n",
        "    print('Hello')\n",
        "myfunction('fr')\n",
        "myfunction('es')\n",
        "myfunction('en')"
      ],
      "execution_count": null,
      "outputs": [
        {
          "output_type": "stream",
          "text": [
            "Bonjour\n",
            "Hola\n",
            "Hello\n"
          ],
          "name": "stdout"
        }
      ]
    },
    {
      "cell_type": "code",
      "metadata": {
        "colab": {
          "base_uri": "https://localhost:8080/"
        },
        "id": "vDK3ugo1CsaG",
        "outputId": "ffb21cf3-15de-4047-fae8-0035d2ceba4d"
      },
      "source": [
        "def even_or_odd(num):\n",
        "  if num%2 ==0 :\n",
        "    print(num, 'is even number')\n",
        "  else:\n",
        "    print(num, 'is odd number')  \n",
        "even_or_odd(8)    \n",
        "even_or_odd(9)  \n",
        "even_or_odd(-6)      "
      ],
      "execution_count": null,
      "outputs": [
        {
          "output_type": "stream",
          "text": [
            "8 is even number\n",
            "9 is odd number\n",
            "-6 is even number\n"
          ],
          "name": "stdout"
        }
      ]
    },
    {
      "cell_type": "code",
      "metadata": {
        "colab": {
          "base_uri": "https://localhost:8080/"
        },
        "id": "CUz-9nopDtwA",
        "outputId": "5e915b76-d62e-4770-e203-4a396b1242b5"
      },
      "source": [
        "# Functions : Return values\n",
        "def greet():\n",
        "  return 'Hello'\n",
        "print(greet(),'Vikram Enimireddy')  \n",
        "print(greet(),'Mahendra Muli')  \n"
      ],
      "execution_count": null,
      "outputs": [
        {
          "output_type": "stream",
          "text": [
            "Hello Vikram Enimireddy\n",
            "Hello Mahendra Muli\n"
          ],
          "name": "stdout"
        }
      ]
    },
    {
      "cell_type": "code",
      "metadata": {
        "colab": {
          "base_uri": "https://localhost:8080/"
        },
        "id": "kLfQk8IxD8ZX",
        "outputId": "5dd30c56-b836-47f3-df12-3a0808aea65b"
      },
      "source": [
        "# Functions : multiple parameters / Arguments\n",
        "def add(x,y):\n",
        "  sum = x+y\n",
        "  return sum\n",
        "out = add('hi ','vikky')  \n",
        "print(out)\n",
        "\n"
      ],
      "execution_count": null,
      "outputs": [
        {
          "output_type": "stream",
          "text": [
            "hivikky\n"
          ],
          "name": "stdout"
        }
      ]
    },
    {
      "cell_type": "code",
      "metadata": {
        "colab": {
          "base_uri": "https://localhost:8080/"
        },
        "id": "-qlDe3-1Kcsq",
        "outputId": "cb504f50-7cab-4a9a-fd66-bf935bcaa338"
      },
      "source": [
        "def multiply(x,y):\n",
        "  sum = x * y\n",
        "  return sum\n",
        "out = multiply('hi ',2)  \n",
        "print(out)\n",
        "multiply(30,2)"
      ],
      "execution_count": null,
      "outputs": [
        {
          "output_type": "stream",
          "text": [
            "hi hi \n"
          ],
          "name": "stdout"
        },
        {
          "output_type": "execute_result",
          "data": {
            "text/plain": [
              "60"
            ]
          },
          "metadata": {
            "tags": []
          },
          "execution_count": 157
        }
      ]
    },
    {
      "cell_type": "markdown",
      "metadata": {
        "id": "0b9XrGmANhDD"
      },
      "source": [
        "Question 1 :\n",
        "Rewrite your pay computation and create a function called computeTotalpay which takes two parameters (days and rate) and returns computed pay as answer.           Enter Days: 45.  Enter Rate: 10.     Pay: 450.0"
      ]
    },
    {
      "cell_type": "code",
      "metadata": {
        "colab": {
          "base_uri": "https://localhost:8080/"
        },
        "id": "2fUX4PjELV29",
        "outputId": "d6a53dc0-498b-4c07-af28-7e4cf5dd897b"
      },
      "source": [
        "def computeTotalpay(days, rate):\n",
        "  computed_pay = float(days)*float(rate)\n",
        "  return computed_pay\n",
        "\n",
        "days = input(\"Enter the no.of days: \")\n",
        "try:\n",
        "  days = float(days)\n",
        "  rate = input(\"Enter rate per day: \")\n",
        "  print('computed_pay :',computeTotalpay(days, rate))\n",
        "except:\n",
        "  print('Sorry! Please, Enter numerical data')    "
      ],
      "execution_count": null,
      "outputs": [
        {
          "output_type": "stream",
          "text": [
            "Enter the no.of days: nine\n",
            "Sorry! Please, Enter numerical data\n"
          ],
          "name": "stdout"
        }
      ]
    },
    {
      "cell_type": "markdown",
      "metadata": {
        "id": "9U8L3JyxR9eW"
      },
      "source": [
        "# **Loops and Iterations : The repeated steps**"
      ]
    },
    {
      "cell_type": "code",
      "metadata": {
        "colab": {
          "base_uri": "https://localhost:8080/"
        },
        "id": "tDCGsvdiOA2Q",
        "outputId": "fbde472c-6327-4d1e-8202-3919d950926a"
      },
      "source": [
        "# While loop\n",
        "count = 0\n",
        "while count<5 :\n",
        "  print('Hello, World')\n",
        "  count+=1\n"
      ],
      "execution_count": null,
      "outputs": [
        {
          "output_type": "stream",
          "text": [
            "Hello, World\n",
            "Hello, World\n",
            "Hello, World\n",
            "Hello, World\n",
            "Hello, World\n"
          ],
          "name": "stdout"
        }
      ]
    },
    {
      "cell_type": "markdown",
      "metadata": {
        "id": "bll_BeA1TPea"
      },
      "source": [
        "# Break & Continue"
      ]
    },
    {
      "cell_type": "code",
      "metadata": {
        "colab": {
          "base_uri": "https://localhost:8080/"
        },
        "id": "8UGfLi_ySc1G",
        "outputId": "98c503d8-881f-4b92-d597-9db19e62d6ef"
      },
      "source": [
        "while True:\n",
        "  line = input('> ')\n",
        "  if line[0] == '#':\n",
        "    continue\n",
        "  if line == 'done':\n",
        "    break\n",
        "  print(line)\n",
        "print('Done')  \n",
        "\n",
        "\n"
      ],
      "execution_count": null,
      "outputs": [
        {
          "output_type": "stream",
          "text": [
            "> Hello There\n",
            "Hello There\n",
            "> #Don't Print this\n",
            "> print this\n",
            "print this\n",
            "> done\n",
            "Done\n"
          ],
          "name": "stdout"
        }
      ]
    },
    {
      "cell_type": "code",
      "metadata": {
        "colab": {
          "base_uri": "https://localhost:8080/"
        },
        "id": "C-MI2ya3T5Fv",
        "outputId": "5befd24a-b1f5-4533-efeb-9c0ad5487cc9"
      },
      "source": [
        "# For loop\n",
        "# Iteration over list\n",
        "print('iteration over list of integers')\n",
        "for i in [5,4,3,2,1,0]:\n",
        "  print(i)\n",
        "  \n",
        "print('iteration over list of strings')\n",
        "for i in ['my','name','is','vikram']:\n",
        "  print(i)"
      ],
      "execution_count": null,
      "outputs": [
        {
          "output_type": "stream",
          "text": [
            "iteration over list of integers\n",
            "5\n",
            "4\n",
            "3\n",
            "2\n",
            "1\n",
            "0\n",
            "iteration over list of strings\n",
            "my\n",
            "name\n",
            "is\n",
            "vikram\n"
          ],
          "name": "stdout"
        }
      ]
    },
    {
      "cell_type": "code",
      "metadata": {
        "colab": {
          "base_uri": "https://localhost:8080/"
        },
        "id": "B7JiUYnhXQ1X",
        "outputId": "1f4fe63b-9078-413a-c49b-56f68e7981c6"
      },
      "source": [
        "# for loop examples\n",
        "count=0\n",
        "large_value =-1\n",
        "for num in [9,99,12,3,74,15]:\n",
        "  count+=1\n",
        "  if num > large_value:\n",
        "    large_value = num\n",
        "\n",
        "print('largest value in list: ',large_value)    \n",
        "print('count : ',count)    \n"
      ],
      "execution_count": null,
      "outputs": [
        {
          "output_type": "stream",
          "text": [
            "largest value in list:  99\n",
            "count :  6\n"
          ],
          "name": "stdout"
        }
      ]
    },
    {
      "cell_type": "code",
      "metadata": {
        "colab": {
          "base_uri": "https://localhost:8080/"
        },
        "id": "X8TzR4CWZxu7",
        "outputId": "8d1d8248-9936-4e52-af92-f390742e23c8"
      },
      "source": [
        "sum=0\n",
        "count=0\n",
        "for num in [9,45,12,3,74,15]:\n",
        "  sum+=num\n",
        "  count+=1\n",
        "print('Average of list: ',sum/count)       \n",
        "print('sum of list: ',sum)\n",
        "print('total numbers in list: ',count)       \n",
        "\n"
      ],
      "execution_count": null,
      "outputs": [
        {
          "output_type": "stream",
          "text": [
            "Average of list:  26.333333333333332\n",
            "sum of list:  158\n",
            "total numbers in list:  6\n"
          ],
          "name": "stdout"
        }
      ]
    },
    {
      "cell_type": "code",
      "metadata": {
        "colab": {
          "base_uri": "https://localhost:8080/"
        },
        "id": "0ZoR80zzbnR9",
        "outputId": "5469496e-a8fb-4818-a901-4ae79dd14823"
      },
      "source": [
        "# Filtering Loop\n",
        "for num in [9,41,12,3,74,15]:\n",
        "    if num > 20:\n",
        "      print('large number: ',num)    "
      ],
      "execution_count": null,
      "outputs": [
        {
          "output_type": "stream",
          "text": [
            "large number:  41\n",
            "large number:  74\n"
          ],
          "name": "stdout"
        }
      ]
    },
    {
      "cell_type": "code",
      "metadata": {
        "colab": {
          "base_uri": "https://localhost:8080/"
        },
        "id": "pVzkLqbDcvc8",
        "outputId": "054927a9-37bf-4cb6-c25d-e163d3f37136"
      },
      "source": [
        "# searching in list\n",
        "bool = False\n",
        "for num in [9,41,12,3,74,15]:\n",
        "    if num == 4:\n",
        "      bool = True\n",
        "      break\n",
        "    else:\n",
        "      bool = 'False'\n",
        "if bool == True:\n",
        "  print ('3 is in list')\n",
        "else:\n",
        "  print ('3 is not in list')\n",
        "\n"
      ],
      "execution_count": null,
      "outputs": [
        {
          "output_type": "stream",
          "text": [
            "3 is not in list\n"
          ],
          "name": "stdout"
        }
      ]
    },
    {
      "cell_type": "markdown",
      "metadata": {
        "id": "imm3tR64gCQU"
      },
      "source": [
        ""
      ]
    },
    {
      "cell_type": "code",
      "metadata": {
        "colab": {
          "base_uri": "https://localhost:8080/"
        },
        "id": "xvcqJkFidp6p",
        "outputId": "7bc24a6d-fc57-47c6-dcd3-16d062aabf35"
      },
      "source": [
        "# smallest in list\n",
        "small = None\n",
        "for num in [9,41,12,3,1,15,-10,-11,-19]:\n",
        "  if small == None:\n",
        "    small = num\n",
        "  elif num < small:\n",
        "    small = num\n",
        "print('smallest in list is :',small)\n",
        "\n"
      ],
      "execution_count": null,
      "outputs": [
        {
          "output_type": "stream",
          "text": [
            "smallest in list is : -19\n"
          ],
          "name": "stdout"
        }
      ]
    },
    {
      "cell_type": "markdown",
      "metadata": {
        "id": "DlXp5478iDWm"
      },
      "source": [
        "Question 1 :\n",
        "Write a program which repeatedly reads numbers until the user enters \"exit\". Once \"exit\" is entered, print out the sum, count, and average of the numbers. If the user enters anything other than a number, detect their mistake using try and except and print an error message and skip to the next number.                        Enter a number: 4 Enter a number: 5 Enter a number: bad data Invalid input Enter a number: exit 9.0 2 4.5"
      ]
    },
    {
      "cell_type": "code",
      "metadata": {
        "colab": {
          "base_uri": "https://localhost:8080/"
        },
        "id": "dGnIKGAVgi3F",
        "outputId": "e986245c-66ef-4dae-a3f5-b255420e5563"
      },
      "source": [
        "sum = 0\n",
        "count = 0\n",
        "while True:\n",
        "  number = input('Enter the number: ')\n",
        "  if number == 'exit':\n",
        "    break\n",
        "  else:\n",
        "    try:\n",
        "      number = float(number)\n",
        "      sum+=number\n",
        "      count+=1\n",
        "    except:\n",
        "      print('Invalid input')   \n",
        "print('sum :', sum)\n",
        "print('Count :', count)\n",
        "print('Average :',sum/count)     \n",
        "    "
      ],
      "execution_count": null,
      "outputs": [
        {
          "output_type": "stream",
          "text": [
            "Enter the number: 5\n",
            "Enter the number: 5\n",
            "Enter the number: 5\n",
            "Enter the number: 5\n",
            "Enter the number: exit\n",
            "sum : 20.0\n",
            "Count : 4\n",
            "Average : 5.0\n"
          ],
          "name": "stdout"
        }
      ]
    },
    {
      "cell_type": "code",
      "metadata": {
        "colab": {
          "base_uri": "https://localhost:8080/"
        },
        "id": "tHOKlw_kjjAg",
        "outputId": "38b2b726-2eb1-4130-cca7-ef64bdc2337e"
      },
      "source": [
        "num = 0\n",
        "sum = 0.0\n",
        "while True:\n",
        "  val = input(\"Enter a number: \")\n",
        "  if val == 'exit':\n",
        "    break\n",
        "  try:\n",
        "    fval = float(val)\n",
        "  except:\n",
        "    print('Invalid')\n",
        "    continue\n",
        "  num = num + 1\n",
        "  sum = sum + fval\n",
        "print('sum:{}\\ncount:{}\\nAverage:{}'.format(sum,num,sum/num))"
      ],
      "execution_count": null,
      "outputs": [
        {
          "output_type": "stream",
          "text": [
            "Enter a number: 10\n",
            "Enter a number: 23\n",
            "Enter a number: 56\n",
            "Enter a number: 34\n",
            "Enter a number: exit\n",
            "sum:123.0\n",
            "count:4\n",
            "Average:30.75\n"
          ],
          "name": "stdout"
        }
      ]
    },
    {
      "cell_type": "markdown",
      "metadata": {
        "id": "JjKqD5_-tbm8"
      },
      "source": [
        "6# Top **15** interview problems"
      ]
    },
    {
      "cell_type": "code",
      "metadata": {
        "id": "IGlN0Zt4RIwn"
      },
      "source": [
        "from google.colab import drive\n",
        "drive.mount('/content/drive')"
      ],
      "execution_count": null,
      "outputs": []
    },
    {
      "cell_type": "code",
      "metadata": {
        "colab": {
          "base_uri": "https://localhost:8080/"
        },
        "id": "rFGxfq0Ak_PQ",
        "outputId": "ce552947-2b3b-4a0c-c552-e191db7d9d19"
      },
      "source": [
        "# Python Program for factorial of a number\n",
        "number = input(\"Enter a number: \")\n",
        "try:\n",
        "  number = int(number)\n",
        "  if number <0:\n",
        "    print(0)\n",
        "  elif number==1 or number == 0 :\n",
        "    print(1)\n",
        "  else:     \n",
        "    factorial = 1\n",
        "    for i in range(1,number+1):\n",
        "      factorial = factorial * i\n",
        "    print(f'Factorial of number {number} is : {factorial}')\n",
        "except:\n",
        "  print('Invalid input')    \n"
      ],
      "execution_count": null,
      "outputs": [
        {
          "output_type": "stream",
          "text": [
            "Enter a number: a\n",
            "Invalid input\n"
          ],
          "name": "stdout"
        }
      ]
    },
    {
      "cell_type": "code",
      "metadata": {
        "colab": {
          "base_uri": "https://localhost:8080/"
        },
        "id": "YonLn2AJwO-R",
        "outputId": "8edcab57-8af2-4847-8b04-8e81b4789ea0"
      },
      "source": [
        "#Problem 3 : Python Program for simple interest\n",
        "try:\n",
        "  P = float(input('enter the principal amount: '))\n",
        "  T = float(input('enter time in years: '))\n",
        "  R = float(input('enter rate of interest: '))\n",
        "  print(f'Simple interest is {(P*T*R)/100}')\n",
        "except:\n",
        "  print('Invalid input')  "
      ],
      "execution_count": null,
      "outputs": [
        {
          "output_type": "stream",
          "text": [
            "enter the principal amount: 10000\n",
            "enter time in years: 9\n",
            "enter rate of interest: 15\n",
            "Simple interest is 13500.0\n"
          ],
          "name": "stdout"
        }
      ]
    },
    {
      "cell_type": "code",
      "metadata": {
        "colab": {
          "base_uri": "https://localhost:8080/"
        },
        "id": "anB1bbi9y93v",
        "outputId": "ff0cf702-a3e2-423e-cd1a-1f7bdd1322e6"
      },
      "source": [
        "# Problem 4 : Python Program for compound interest\n",
        "try:\n",
        "  P = float(input('enter the principal amount: '))\n",
        "  T = float(input('enter time in years: '))\n",
        "  R = float(input('enter rate of interest: '))\n",
        "  print(f'Simple interest is {P * (pow((1 + R / 100), T))}')\n",
        "except:\n",
        "  print('Invalid input')  "
      ],
      "execution_count": null,
      "outputs": [
        {
          "output_type": "stream",
          "text": [
            "enter the principal amount: 10000\n",
            "enter time in years: 9\n",
            "enter rate of interest: 15\n",
            "Simple interest is 35178.762919199195\n"
          ],
          "name": "stdout"
        }
      ]
    },
    {
      "cell_type": "code",
      "metadata": {
        "id": "hXcjvSz4z3lZ",
        "colab": {
          "base_uri": "https://localhost:8080/"
        },
        "outputId": "d506abe7-a2b7-4d1d-827d-eae50f6fc631"
      },
      "source": [
        "# Problem 5 : Python Program to check Armstrong Number\n",
        "try:\n",
        "  number =int(float(input('enter the number:')))\n",
        "  length = len(str(number))\n",
        "  sum = 0\n",
        "  for  char in str(number):\n",
        "    sum = sum + (int(char)**length)\n",
        "  if int(sum) == int((number)) :\n",
        "    print(f'{number} is Armstrong Number')\n",
        "  else:\n",
        "    print(f'{number} is  Not an Armstrong Number')\n",
        "except:\n",
        "  print('Invalid input')"
      ],
      "execution_count": null,
      "outputs": [
        {
          "output_type": "stream",
          "text": [
            "enter the number:avdc\n",
            "Invalid input\n"
          ],
          "name": "stdout"
        }
      ]
    },
    {
      "cell_type": "code",
      "metadata": {
        "colab": {
          "base_uri": "https://localhost:8080/"
        },
        "id": "X29sfn-V12F5",
        "outputId": "32fab80d-8daf-4e02-c4fd-7f42320ee853"
      },
      "source": [
        "# Problem 6 : Python Program for Program to find area of a circle\n",
        "try:\n",
        "  import math\n",
        "  radius = float(input('Enter the radius of circle: '))\n",
        "  print(f'The area of circle with radius {radius} is: {math.pi*radius**2}')\n",
        "except:\n",
        "  print('Invalid input')  "
      ],
      "execution_count": null,
      "outputs": [
        {
          "output_type": "stream",
          "text": [
            "Enter the radius of circle: 23.6\n",
            "The area of circle with radius23.6 is: 1749.7414443433713\n"
          ],
          "name": "stdout"
        }
      ]
    },
    {
      "cell_type": "code",
      "metadata": {
        "colab": {
          "base_uri": "https://localhost:8080/"
        },
        "id": "WjIDMvwR8zJx",
        "outputId": "2dd80b27-8ab3-413a-c658-9878a3d0e248"
      },
      "source": [
        "# Problem 7 : Python program to print all Prime numbers in an Interval\n",
        "try:\n",
        "  a = int(input('enter the lower value of the interval:'))\n",
        "  if a ==1:\n",
        "    a+=1  \n",
        "  elif a==0:\n",
        "    a+=2  \n",
        "  elif a<0:\n",
        "    raise ValueError\n",
        "  b = int(input('enter the higher value of the interval:'))\n",
        "  list1 = [*range(a,b,1)]\n",
        "  for number in list1:\n",
        "    for  i in range(2,number//2):\n",
        "      if number % i ==0:\n",
        "        break  \n",
        "    else:\n",
        "      print (number,'\\n')\n",
        "except:\n",
        "  print('Invalid input')"
      ],
      "execution_count": null,
      "outputs": [
        {
          "output_type": "stream",
          "text": [
            "enter the lower value of the interval:-10\n",
            "Invalid input\n"
          ],
          "name": "stdout"
        }
      ]
    },
    {
      "cell_type": "code",
      "metadata": {
        "colab": {
          "base_uri": "https://localhost:8080/"
        },
        "id": "TV9Itkdi-EQY",
        "outputId": "f4e0ac0b-e5c9-4b33-f639-0719a61929d4"
      },
      "source": [
        "#Problem 8 : Python program to check whether a number is Prime or not\n",
        "try:\n",
        "  number =int(input('enter the number: '))\n",
        "  if number == 1 or number <= 0:\n",
        "    print(False)\n",
        "  else:\n",
        "    for i in range(2,number//2+1):\n",
        "      if number % i ==0:\n",
        "        print(False)\n",
        "        break\n",
        "    else:\n",
        "      \n",
        "      print(True)\n",
        "except:\n",
        "  print('Invalid input')"
      ],
      "execution_count": null,
      "outputs": [
        {
          "output_type": "stream",
          "text": [
            "enter the number: 123\n",
            "False\n"
          ],
          "name": "stdout"
        }
      ]
    },
    {
      "cell_type": "code",
      "metadata": {
        "id": "yVZ5sCPKPw1R",
        "colab": {
          "base_uri": "https://localhost:8080/"
        },
        "outputId": "e4724aeb-f2db-41ad-926d-81544803acc6"
      },
      "source": [
        "# Problem 9 : Python Program for n-th Fibonacci number\n",
        "def fibn(n):\n",
        "  if n==1 or n==0:\n",
        "    return n\n",
        "  elif n < 0:\n",
        "    raise    \n",
        "  else:\n",
        "    return (fibn(n-1) + fibn(n-2))  \n",
        "try:\n",
        "  n= int(input ('Enter which fibonacci number do you want: '))  \n",
        "  print(fibn(n-1))\n",
        "except:\n",
        "  print('Invalid input')"
      ],
      "execution_count": null,
      "outputs": [
        {
          "output_type": "stream",
          "text": [
            "Enter which fibonacci number do you want: -10\n",
            "Invalid input\n"
          ],
          "name": "stdout"
        }
      ]
    },
    {
      "cell_type": "code",
      "metadata": {
        "colab": {
          "base_uri": "https://localhost:8080/"
        },
        "id": "-JeLwPpWqgu9",
        "outputId": "71d678a7-d75b-46b8-ff0b-f34efeb590a6"
      },
      "source": [
        "# Problem 10 : Python Program for printing Fibonacci numbers\n",
        "try:\n",
        "  n= int(input ('Enter how many fibonacci numbers do you want: '))\n",
        "  if n<0:\n",
        "    raise\n",
        "  else:\n",
        "    a = 0\n",
        "    b = 1 \n",
        "    print(f'{a}\\n{b}')    \n",
        "    for i in range(2,n):\n",
        "      c = a+b\n",
        "      a=b\n",
        "      b=c\n",
        "      print(c)\n",
        "except:\n",
        "  print('Invalid input')      "
      ],
      "execution_count": null,
      "outputs": [
        {
          "output_type": "stream",
          "text": [
            "Enter how many fibonacci numbers do you want: -10\n",
            "Invalid input\n"
          ],
          "name": "stdout"
        }
      ]
    },
    {
      "cell_type": "code",
      "metadata": {
        "colab": {
          "base_uri": "https://localhost:8080/"
        },
        "id": "loOzKhqOtDT-",
        "outputId": "8694e87b-c10e-4f99-bd0b-a73c231840ff"
      },
      "source": [
        "# Problem 11 : Python Program for How to check if a given number is Fibonacci number?\n",
        "import math\n",
        "def is_perfect_square(m):\n",
        "  return (int(math.sqrt(m))**2 == m)\n",
        "def fib_or_not(n):\n",
        "  return (is_perfect_square(5*pow(n,2)+4)) or (is_perfect_square(5*pow(n,2)-4))\n",
        "try:  \n",
        "  n= int(input ('which number do you want to check: '))\n",
        "  if fib_or_not(n) == True:\n",
        "    print('Yes')\n",
        "  else:\n",
        "    print('No')\n",
        "except:\n",
        "  print('Invalid input')    "
      ],
      "execution_count": null,
      "outputs": [
        {
          "output_type": "stream",
          "text": [
            "which number do you want to check: 34\n",
            "Yes\n"
          ],
          "name": "stdout"
        }
      ]
    },
    {
      "cell_type": "code",
      "metadata": {
        "colab": {
          "base_uri": "https://localhost:8080/"
        },
        "id": "MBgwAwmuN0Cl",
        "outputId": "863d6c92-a67e-48b5-9277-1b98278d227d"
      },
      "source": [
        "# Problem 12 : Program to print ASCII Value of a character\n",
        "char = str(input('Enter the character: '))\n",
        "try:\n",
        "  print(ord(char))\n",
        "except:\n",
        "  print('Invalid input')  "
      ],
      "execution_count": null,
      "outputs": [
        {
          "output_type": "stream",
          "text": [
            "Enter the character: d\n",
            "100\n"
          ],
          "name": "stdout"
        }
      ]
    },
    {
      "cell_type": "code",
      "metadata": {
        "colab": {
          "base_uri": "https://localhost:8080/"
        },
        "id": "VFQdZuUl-GiX",
        "outputId": "9d4053ad-3ff8-49b9-a2ba-ffd162de2c53"
      },
      "source": [
        "#Problem 13 : Python Program for Sum of squares of first n natural numbers\n",
        "def sum_of_squares(n):\n",
        "  sum = 0\n",
        "  for i in range(1,n+1):\n",
        "    sum = sum + i*i\n",
        "  return sum\n",
        "n = int(input('enter the number :')) \n",
        "print(sum_of_squares(n)) "
      ],
      "execution_count": null,
      "outputs": [
        {
          "output_type": "stream",
          "text": [
            "enter the number :10\n",
            "385\n"
          ],
          "name": "stdout"
        }
      ]
    },
    {
      "cell_type": "code",
      "metadata": {
        "colab": {
          "base_uri": "https://localhost:8080/"
        },
        "id": "3lL3T_vGDJpc",
        "outputId": "54378a20-bad0-45bb-e988-319d3639220e"
      },
      "source": [
        "# Problem 14 : Python Program for cube sum of first n natural numbers\n",
        "def sum_of_cubes(n):\n",
        "  sum = 0\n",
        "  for i in range(1,n+1):\n",
        "    sum = sum + i**3\n",
        "  return sum\n",
        "try:  \n",
        "  n =int(input('enter the number :'))\n",
        "  if n<0:\n",
        "    raise \n",
        "  print(sum_of_cubes(n)) \n",
        "except:\n",
        "  print('Invalid input')  "
      ],
      "execution_count": null,
      "outputs": [
        {
          "output_type": "stream",
          "text": [
            "enter the number :10\n",
            "3025\n"
          ],
          "name": "stdout"
        }
      ]
    },
    {
      "cell_type": "code",
      "metadata": {
        "id": "7r1TCKxoGyZu"
      },
      "source": [
        ""
      ],
      "execution_count": null,
      "outputs": []
    }
  ]
}