{
  "nbformat": 4,
  "nbformat_minor": 0,
  "metadata": {
    "colab": {
      "name": "Spam Mail Prediction.ipynb",
      "provenance": [],
      "collapsed_sections": []
    },
    "kernelspec": {
      "name": "python3",
      "display_name": "Python 3"
    },
    "language_info": {
      "name": "python"
    }
  },
  "cells": [
    {
      "cell_type": "markdown",
      "metadata": {
        "id": "JsCUWRGv_jyC"
      },
      "source": [
        "Import libraries"
      ]
    },
    {
      "cell_type": "code",
      "metadata": {
        "id": "aBa82vnJ-i9u"
      },
      "source": [
        "import numpy as np\n",
        "import pandas as pd\n",
        "from sklearn.model_selection import train_test_split\n",
        "from sklearn.feature_extraction.text import TfidfVectorizer\n",
        "from sklearn.svm import LinearSVC\n",
        "from sklearn.metrics import accuracy_score"
      ],
      "execution_count": 33,
      "outputs": []
    },
    {
      "cell_type": "markdown",
      "metadata": {
        "id": "JRa246_KAV_0"
      },
      "source": [
        "Data Preprocessing"
      ]
    },
    {
      "cell_type": "code",
      "metadata": {
        "id": "C7DvGf2qAQ4r"
      },
      "source": [
        "# load data set\n",
        "raw_mail_data =pd.read_csv('spam.csv', encoding='ISO-8859-1')\n",
        "# replace null data with null string\n",
        "raw_mail_data = raw_mail_data.where((pd.notnull(raw_mail_data)), '')\n",
        "mail_data = raw_mail_data[['v1','v2']]"
      ],
      "execution_count": 55,
      "outputs": []
    },
    {
      "cell_type": "code",
      "metadata": {
        "id": "y5ZpXm7pE3iy",
        "colab": {
          "base_uri": "https://localhost:8080/"
        },
        "outputId": "e4b2383d-fb03-446e-8a81-fc98c225b569"
      },
      "source": [
        "mail_data.shape"
      ],
      "execution_count": 56,
      "outputs": [
        {
          "output_type": "execute_result",
          "data": {
            "text/plain": [
              "(5572, 2)"
            ]
          },
          "metadata": {
            "tags": []
          },
          "execution_count": 56
        }
      ]
    },
    {
      "cell_type": "code",
      "metadata": {
        "colab": {
          "base_uri": "https://localhost:8080/"
        },
        "id": "9Tm-ATWVcpsb",
        "outputId": "7d6620b6-42e6-4ffa-b1a1-80a94b60aed9"
      },
      "source": [
        "# label spam mail as 0 and ham mail as 1:\n",
        "mail_data.loc[mail_data['v1']=='spam', 'v1',]=0\n",
        "mail_data.loc[mail_data['v1']=='ham', 'v1',]=1"
      ],
      "execution_count": 57,
      "outputs": [
        {
          "output_type": "stream",
          "text": [
            "/usr/local/lib/python3.7/dist-packages/pandas/core/indexing.py:670: SettingWithCopyWarning: \n",
            "A value is trying to be set on a copy of a slice from a DataFrame\n",
            "\n",
            "See the caveats in the documentation: https://pandas.pydata.org/pandas-docs/stable/user_guide/indexing.html#returning-a-view-versus-a-copy\n",
            "  iloc._setitem_with_indexer(indexer, value)\n",
            "/usr/local/lib/python3.7/dist-packages/ipykernel_launcher.py:2: SettingWithCopyWarning: \n",
            "A value is trying to be set on a copy of a slice from a DataFrame\n",
            "\n",
            "See the caveats in the documentation: https://pandas.pydata.org/pandas-docs/stable/user_guide/indexing.html#returning-a-view-versus-a-copy\n",
            "  \n",
            "/usr/local/lib/python3.7/dist-packages/ipykernel_launcher.py:3: SettingWithCopyWarning: \n",
            "A value is trying to be set on a copy of a slice from a DataFrame\n",
            "\n",
            "See the caveats in the documentation: https://pandas.pydata.org/pandas-docs/stable/user_guide/indexing.html#returning-a-view-versus-a-copy\n",
            "  This is separate from the ipykernel package so we can avoid doing imports until\n"
          ],
          "name": "stderr"
        }
      ]
    },
    {
      "cell_type": "code",
      "metadata": {
        "colab": {
          "base_uri": "https://localhost:8080/",
          "height": 200
        },
        "id": "bpTVp6_jd4d2",
        "outputId": "cc685736-323b-4261-dae9-9dc07301650a"
      },
      "source": [
        "mail_data.head()"
      ],
      "execution_count": 58,
      "outputs": [
        {
          "output_type": "execute_result",
          "data": {
            "text/html": [
              "<div>\n",
              "<style scoped>\n",
              "    .dataframe tbody tr th:only-of-type {\n",
              "        vertical-align: middle;\n",
              "    }\n",
              "\n",
              "    .dataframe tbody tr th {\n",
              "        vertical-align: top;\n",
              "    }\n",
              "\n",
              "    .dataframe thead th {\n",
              "        text-align: right;\n",
              "    }\n",
              "</style>\n",
              "<table border=\"1\" class=\"dataframe\">\n",
              "  <thead>\n",
              "    <tr style=\"text-align: right;\">\n",
              "      <th></th>\n",
              "      <th>v1</th>\n",
              "      <th>v2</th>\n",
              "    </tr>\n",
              "  </thead>\n",
              "  <tbody>\n",
              "    <tr>\n",
              "      <th>0</th>\n",
              "      <td>1</td>\n",
              "      <td>Go until jurong point, crazy.. Available only ...</td>\n",
              "    </tr>\n",
              "    <tr>\n",
              "      <th>1</th>\n",
              "      <td>1</td>\n",
              "      <td>Ok lar... Joking wif u oni...</td>\n",
              "    </tr>\n",
              "    <tr>\n",
              "      <th>2</th>\n",
              "      <td>0</td>\n",
              "      <td>Free entry in 2 a wkly comp to win FA Cup fina...</td>\n",
              "    </tr>\n",
              "    <tr>\n",
              "      <th>3</th>\n",
              "      <td>1</td>\n",
              "      <td>U dun say so early hor... U c already then say...</td>\n",
              "    </tr>\n",
              "    <tr>\n",
              "      <th>4</th>\n",
              "      <td>1</td>\n",
              "      <td>Nah I don't think he goes to usf, he lives aro...</td>\n",
              "    </tr>\n",
              "  </tbody>\n",
              "</table>\n",
              "</div>"
            ],
            "text/plain": [
              "  v1                                                 v2\n",
              "0  1  Go until jurong point, crazy.. Available only ...\n",
              "1  1                      Ok lar... Joking wif u oni...\n",
              "2  0  Free entry in 2 a wkly comp to win FA Cup fina...\n",
              "3  1  U dun say so early hor... U c already then say...\n",
              "4  1  Nah I don't think he goes to usf, he lives aro..."
            ]
          },
          "metadata": {
            "tags": []
          },
          "execution_count": 58
        }
      ]
    },
    {
      "cell_type": "code",
      "metadata": {
        "id": "l6EnpnIZd9ar"
      },
      "source": [
        "# separate the text and label x--->Text, y---->label\n",
        "X = mail_data['v2']\n",
        "Y = mail_data['v1'] "
      ],
      "execution_count": 60,
      "outputs": []
    },
    {
      "cell_type": "code",
      "metadata": {
        "colab": {
          "base_uri": "https://localhost:8080/"
        },
        "id": "dKK1U_zTeQ9b",
        "outputId": "0cb560b7-311b-407a-e794-ca3c24679de4"
      },
      "source": [
        "print(X)\n",
        "print('............')\n",
        "print(Y)"
      ],
      "execution_count": 61,
      "outputs": [
        {
          "output_type": "stream",
          "text": [
            "0       Go until jurong point, crazy.. Available only ...\n",
            "1                           Ok lar... Joking wif u oni...\n",
            "2       Free entry in 2 a wkly comp to win FA Cup fina...\n",
            "3       U dun say so early hor... U c already then say...\n",
            "4       Nah I don't think he goes to usf, he lives aro...\n",
            "                              ...                        \n",
            "5567    This is the 2nd time we have tried 2 contact u...\n",
            "5568                Will Ì_ b going to esplanade fr home?\n",
            "5569    Pity, * was in mood for that. So...any other s...\n",
            "5570    The guy did some bitching but I acted like i'd...\n",
            "5571                           Rofl. Its true to its name\n",
            "Name: v2, Length: 5572, dtype: object\n",
            "............\n",
            "0       1\n",
            "1       1\n",
            "2       0\n",
            "3       1\n",
            "4       1\n",
            "       ..\n",
            "5567    0\n",
            "5568    1\n",
            "5569    1\n",
            "5570    1\n",
            "5571    1\n",
            "Name: v1, Length: 5572, dtype: object\n"
          ],
          "name": "stdout"
        }
      ]
    },
    {
      "cell_type": "code",
      "metadata": {
        "id": "w6eLo0KIet5w"
      },
      "source": [
        "# splitting data into train and test data\n",
        "X_train, X_test, Y_train, Y_test = train_test_split(X, Y, test_size = 0.2, random_state = 3)"
      ],
      "execution_count": 62,
      "outputs": []
    },
    {
      "cell_type": "code",
      "metadata": {
        "id": "7_Ze_EBSfTIy"
      },
      "source": [
        "# transform the test data to feature vectors that can be used as input to the SVM model using TfidfVectorizer\n",
        "# convert the text to lower case letters\n",
        "feature_extraction = TfidfVectorizer(min_df=1, stop_words='english',lowercase=True)\n",
        "X_train_features =feature_extraction.fit_transform(X_train)\n",
        "X_test_features = feature_extraction.transform(X_test)\n",
        "# convert Y_train and Y_test values as integers\n",
        "Y_train = Y_train.astype('int')\n",
        "Y_test = Y_test.astype('int')"
      ],
      "execution_count": 63,
      "outputs": []
    },
    {
      "cell_type": "markdown",
      "metadata": {
        "id": "EDMf5LQEg2fw"
      },
      "source": [
        "Training the model ----> Support Vector Machine model"
      ]
    },
    {
      "cell_type": "code",
      "metadata": {
        "colab": {
          "base_uri": "https://localhost:8080/"
        },
        "id": "Ugd3Cj0pg0zy",
        "outputId": "d6757b51-e570-4556-f775-733ab9af4537"
      },
      "source": [
        "model = LinearSVC()\n",
        "model.fit(X_train_features, Y_train)"
      ],
      "execution_count": 65,
      "outputs": [
        {
          "output_type": "execute_result",
          "data": {
            "text/plain": [
              "LinearSVC(C=1.0, class_weight=None, dual=True, fit_intercept=True,\n",
              "          intercept_scaling=1, loss='squared_hinge', max_iter=1000,\n",
              "          multi_class='ovr', penalty='l2', random_state=None, tol=0.0001,\n",
              "          verbose=0)"
            ]
          },
          "metadata": {
            "tags": []
          },
          "execution_count": 65
        }
      ]
    },
    {
      "cell_type": "code",
      "metadata": {
        "colab": {
          "base_uri": "https://localhost:8080/"
        },
        "id": "YrWbqrv_hQDo",
        "outputId": "a01bf128-764f-4b06-d79c-7d5281998cf6"
      },
      "source": [
        "# evaluation \n",
        "# on training data\n",
        "prediction = model.predict(X_train_features)\n",
        "accuracy = accuracy_score(Y_train, prediction)\n",
        "print('Accuracy score on training data: ',accuracy)"
      ],
      "execution_count": 66,
      "outputs": [
        {
          "output_type": "stream",
          "text": [
            "Accuracy score on training data:  0.9995512676688355\n"
          ],
          "name": "stdout"
        }
      ]
    },
    {
      "cell_type": "code",
      "metadata": {
        "colab": {
          "base_uri": "https://localhost:8080/"
        },
        "id": "q2XwoiNbiJzo",
        "outputId": "0946f6bb-ffea-4f71-b275-8bd7c88af5b0"
      },
      "source": [
        "prediction = model.predict(X_test_features)\n",
        "accuracy = accuracy_score(Y_test, prediction)\n",
        "print('Accuracy score on test data: ',accuracy)"
      ],
      "execution_count": 67,
      "outputs": [
        {
          "output_type": "stream",
          "text": [
            "Accuracy score on test data:  0.9856502242152466\n"
          ],
          "name": "stdout"
        }
      ]
    },
    {
      "cell_type": "markdown",
      "metadata": {
        "id": "GIDyGL9Uib8p"
      },
      "source": [
        "Prediction on new mail"
      ]
    },
    {
      "cell_type": "code",
      "metadata": {
        "colab": {
          "base_uri": "https://localhost:8080/"
        },
        "id": "FZLR-pWOiTJT",
        "outputId": "70a4ca03-69a7-41dd-9ec4-497f0d8c3ce5"
      },
      "source": [
        "input_mail = ['PRIVATE! Your 2003 Account Statement for 07973788240 shows 800 un-redeemed S. I. M. points. Call 08715203649 Identifier Code: 40533 Expires 31/10/04']\n",
        "input_mail_features = feature_extraction.transform(input_mail)\n",
        "prediction = model.predict(input_mail_features)\n",
        "if prediction[0] == 1:\n",
        "  print('HAM MAIL')\n",
        "else:\n",
        "  print('SPAM MAIL')"
      ],
      "execution_count": 70,
      "outputs": [
        {
          "output_type": "stream",
          "text": [
            "SPAM MAIL\n"
          ],
          "name": "stdout"
        }
      ]
    },
    {
      "cell_type": "code",
      "metadata": {
        "colab": {
          "base_uri": "https://localhost:8080/"
        },
        "id": "KbBF42J8jmr4",
        "outputId": "9d99ec44-0888-4f86-ad56-a689cc8654e9"
      },
      "source": [
        "input_mail = ['i am going to bed now prin']\n",
        "input_mail_features = feature_extraction.transform(input_mail)\n",
        "prediction = model.predict(input_mail_features)\n",
        "if prediction[0] == 1:\n",
        "  print('HAM MAIL')\n",
        "else:\n",
        "  print('SPAM MAIL')"
      ],
      "execution_count": 71,
      "outputs": [
        {
          "output_type": "stream",
          "text": [
            "HAM MAIL\n"
          ],
          "name": "stdout"
        }
      ]
    },
    {
      "cell_type": "code",
      "metadata": {
        "id": "mCX5eg2qj1Oc"
      },
      "source": [
        ""
      ],
      "execution_count": null,
      "outputs": []
    }
  ]
}